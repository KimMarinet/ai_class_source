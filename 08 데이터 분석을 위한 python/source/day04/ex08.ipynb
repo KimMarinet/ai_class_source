{
 "cells": [
  {
   "cell_type": "markdown",
   "id": "49c06bb8",
   "metadata": {},
   "source": [
    "### 다른 디렉토리에 있는 모듈을 불러오는 방법\n",
    "- sys.path에 불러올 모듈 경로 추가\n",
    "- set PYTHONPATH = 모듈 경로 / Windows 기준\n",
    "= export PYTHON = 모듈 경로 / 리눅스, 맥 기준"
   ]
  },
  {
   "cell_type": "code",
   "execution_count": 3,
   "id": "4138324c",
   "metadata": {},
   "outputs": [
    {
     "name": "stderr",
     "output_type": "stream",
     "text": [
      "<>:2: SyntaxWarning: invalid escape sequence '\\m'\n",
      "<>:2: SyntaxWarning: invalid escape sequence '\\m'\n",
      "C:\\Users\\admin\\AppData\\Local\\Temp\\ipykernel_3204\\3848965865.py:2: SyntaxWarning: invalid escape sequence '\\m'\n",
      "  sys.path.append(\"C:\\my_mod\")\n"
     ]
    }
   ],
   "source": [
    "import sys # 파이썬 기본 모듈\n",
    "sys.path.append(\"C:\\my_mod\")"
   ]
  },
  {
   "cell_type": "code",
   "execution_count": 4,
   "id": "d624f4e8",
   "metadata": {},
   "outputs": [
    {
     "name": "stdout",
     "output_type": "stream",
     "text": [
      "mod1\n"
     ]
    }
   ],
   "source": [
    "import mod1"
   ]
  }
 ],
 "metadata": {
  "kernelspec": {
   "display_name": "basic",
   "language": "python",
   "name": "python3"
  },
  "language_info": {
   "codemirror_mode": {
    "name": "ipython",
    "version": 3
   },
   "file_extension": ".py",
   "mimetype": "text/x-python",
   "name": "python",
   "nbconvert_exporter": "python",
   "pygments_lexer": "ipython3",
   "version": "3.12.10"
  }
 },
 "nbformat": 4,
 "nbformat_minor": 5
}

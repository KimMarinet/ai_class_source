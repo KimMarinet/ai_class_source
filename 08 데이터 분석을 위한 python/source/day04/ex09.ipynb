{
 "cells": [
  {
   "cell_type": "markdown",
   "id": "e42822f0",
   "metadata": {},
   "source": [
    "### 패키지\n",
    "-import : 모듈 또는 패키지로 끝나야 한다."
   ]
  },
  {
   "cell_type": "code",
   "execution_count": 1,
   "id": "bc258a12",
   "metadata": {},
   "outputs": [
    {
     "name": "stderr",
     "output_type": "stream",
     "text": [
      "<>:2: SyntaxWarning: invalid escape sequence '\\m'\n",
      "<>:2: SyntaxWarning: invalid escape sequence '\\m'\n",
      "C:\\Users\\admin\\AppData\\Local\\Temp\\ipykernel_11556\\1200779191.py:2: SyntaxWarning: invalid escape sequence '\\m'\n",
      "  sys.path.append(\"C:\\my_mod\")\n"
     ]
    }
   ],
   "source": [
    "import sys \n",
    "sys.path.append(\"C:\\my_mod\")"
   ]
  },
  {
   "cell_type": "code",
   "execution_count": 2,
   "id": "c9f9dcde",
   "metadata": {},
   "outputs": [],
   "source": [
    "import game.sound.echo"
   ]
  },
  {
   "cell_type": "code",
   "execution_count": 3,
   "id": "76b75b9d",
   "metadata": {},
   "outputs": [
    {
     "name": "stdout",
     "output_type": "stream",
     "text": [
      "echo\n"
     ]
    }
   ],
   "source": [
    "game.sound.echo.echo_test()"
   ]
  },
  {
   "cell_type": "markdown",
   "id": "4c918cbd",
   "metadata": {},
   "source": [
    "### __init__.py\n",
    "- 디렉토리가 패키지의 일부임을 알려주는 파일\n",
    "- 패키지 수준에서 자원 공유\n",
    "- 모듈을 로드했을 때 최초에 실행, 초기화 작업 시에도 주로 사용"
   ]
  },
  {
   "cell_type": "code",
   "execution_count": 4,
   "id": "af0a71b3",
   "metadata": {},
   "outputs": [
    {
     "name": "stderr",
     "output_type": "stream",
     "text": [
      "<>:2: SyntaxWarning: invalid escape sequence '\\m'\n",
      "<>:2: SyntaxWarning: invalid escape sequence '\\m'\n",
      "C:\\Users\\admin\\AppData\\Local\\Temp\\ipykernel_11556\\4157744925.py:2: SyntaxWarning: invalid escape sequence '\\m'\n",
      "  sys.path.append(\"C:\\my_mod\")\n"
     ]
    }
   ],
   "source": [
    "import sys\n",
    "sys.path.append(\"C:\\my_mod\")"
   ]
  },
  {
   "cell_type": "code",
   "execution_count": 5,
   "id": "aed456f9",
   "metadata": {},
   "outputs": [],
   "source": [
    "import game"
   ]
  },
  {
   "cell_type": "code",
   "execution_count": 6,
   "id": "b6826061",
   "metadata": {},
   "outputs": [
    {
     "data": {
      "text/plain": [
       "3.12"
      ]
     },
     "execution_count": 6,
     "metadata": {},
     "output_type": "execute_result"
    }
   ],
   "source": [
    "game.VERSION"
   ]
  },
  {
   "cell_type": "code",
   "execution_count": 8,
   "id": "d3eb5dc0",
   "metadata": {},
   "outputs": [
    {
     "name": "stdout",
     "output_type": "stream",
     "text": [
      "render\n"
     ]
    }
   ],
   "source": [
    "game.render_test()"
   ]
  }
 ],
 "metadata": {
  "kernelspec": {
   "display_name": "basic",
   "language": "python",
   "name": "python3"
  },
  "language_info": {
   "codemirror_mode": {
    "name": "ipython",
    "version": 3
   },
   "file_extension": ".py",
   "mimetype": "text/x-python",
   "name": "python",
   "nbconvert_exporter": "python",
   "pygments_lexer": "ipython3",
   "version": "3.12.10"
  }
 },
 "nbformat": 4,
 "nbformat_minor": 5
}

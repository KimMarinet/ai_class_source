{
 "cells": [
  {
   "cell_type": "markdown",
   "id": "063fd270",
   "metadata": {},
   "source": [
    "## 클래스\n",
    "- 객체 생성시 new 연산자는 사용 X\n",
    "- 클래스명\\(\\) 호출하면 객체가 생성\n",
    "- 메서드 첫번째 매개변수 : 생성된 객체의 주소값을 가지는 지역 변수\n",
    "    - 자바의 this와 동일한 역할\n",
    "\n",
    "### 생성자 메서드\n",
    "\n",
    "```python\n",
    "class ....\n",
    "    def __init__(self, args...):\n",
    "        ...\n",
    "```\n",
    "\n",
    "- 인스턴스 변수의 초기화"
   ]
  },
  {
   "cell_type": "code",
   "execution_count": null,
   "id": "26e089a2",
   "metadata": {},
   "outputs": [],
   "source": [
    "class Calculator:\n",
    "    def setData(self, a, b):\n",
    "        self.a = a\n",
    "        self.b = b\n",
    "        \n",
    "    def add(self):\n",
    "        return self.a +  self.b"
   ]
  },
  {
   "cell_type": "code",
   "execution_count": 16,
   "id": "eaaab2e4",
   "metadata": {},
   "outputs": [],
   "source": [
    "cal1 = Calculator() #객체 생성"
   ]
  },
  {
   "cell_type": "code",
   "execution_count": 3,
   "id": "3b298698",
   "metadata": {},
   "outputs": [],
   "source": [
    "cal2 = Calculator()"
   ]
  },
  {
   "cell_type": "code",
   "execution_count": 7,
   "id": "b162e5a7",
   "metadata": {},
   "outputs": [
    {
     "name": "stdout",
     "output_type": "stream",
     "text": [
      "False\n",
      "1651711073824 1651711081024\n"
     ]
    }
   ],
   "source": [
    "print(cal1 is cal2)\n",
    "print(id(cal1), id(cal2))"
   ]
  },
  {
   "cell_type": "code",
   "execution_count": 17,
   "id": "7dce3111",
   "metadata": {},
   "outputs": [
    {
     "data": {
      "text/plain": [
       "300"
      ]
     },
     "execution_count": 17,
     "metadata": {},
     "output_type": "execute_result"
    }
   ],
   "source": [
    "#cal1.a = 100\n",
    "#cal1.b = 200\n",
    "cal1.setData(100,200)\n",
    "cal1.add()"
   ]
  }
 ],
 "metadata": {
  "kernelspec": {
   "display_name": "basic",
   "language": "python",
   "name": "python3"
  },
  "language_info": {
   "codemirror_mode": {
    "name": "ipython",
    "version": 3
   },
   "file_extension": ".py",
   "mimetype": "text/x-python",
   "name": "python",
   "nbconvert_exporter": "python",
   "pygments_lexer": "ipython3",
   "version": "3.12.10"
  }
 },
 "nbformat": 4,
 "nbformat_minor": 5
}

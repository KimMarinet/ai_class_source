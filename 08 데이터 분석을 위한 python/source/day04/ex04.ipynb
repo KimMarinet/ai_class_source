{
 "cells": [
  {
   "cell_type": "markdown",
   "id": "75ad6c8c",
   "metadata": {},
   "source": [
    "### 클래스 내 변수를 정의하면?\n",
    "- 정적 변수\n",
    "- 객체를 생성하지 않아도 클래스 명으로 직접 접근 가능"
   ]
  },
  {
   "cell_type": "code",
   "execution_count": 1,
   "id": "4ca3f01d",
   "metadata": {},
   "outputs": [],
   "source": [
    "class Person:\n",
    "    first_name = '이름'\n",
    "    last_name = '김'"
   ]
  },
  {
   "cell_type": "code",
   "execution_count": 2,
   "id": "c643cf2b",
   "metadata": {},
   "outputs": [],
   "source": [
    "p1 = Person();"
   ]
  },
  {
   "cell_type": "code",
   "execution_count": 3,
   "id": "b0a1a249",
   "metadata": {},
   "outputs": [
    {
     "name": "stdout",
     "output_type": "stream",
     "text": [
      "이름 김\n"
     ]
    }
   ],
   "source": [
    "print(p1.first_name, p1.last_name)"
   ]
  },
  {
   "cell_type": "code",
   "execution_count": 4,
   "id": "497ce5c8",
   "metadata": {},
   "outputs": [
    {
     "name": "stdout",
     "output_type": "stream",
     "text": [
      "이름 김\n"
     ]
    }
   ],
   "source": [
    "print(Person.first_name, Person.last_name)"
   ]
  }
 ],
 "metadata": {
  "kernelspec": {
   "display_name": "basic",
   "language": "python",
   "name": "python3"
  },
  "language_info": {
   "codemirror_mode": {
    "name": "ipython",
    "version": 3
   },
   "file_extension": ".py",
   "mimetype": "text/x-python",
   "name": "python",
   "nbconvert_exporter": "python",
   "pygments_lexer": "ipython3",
   "version": "3.12.10"
  }
 },
 "nbformat": 4,
 "nbformat_minor": 5
}

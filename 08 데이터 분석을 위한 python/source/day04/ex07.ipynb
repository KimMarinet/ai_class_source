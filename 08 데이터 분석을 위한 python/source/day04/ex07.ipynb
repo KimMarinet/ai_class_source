{
 "cells": [
  {
   "cell_type": "code",
   "execution_count": 1,
   "id": "9ef5fa4f",
   "metadata": {},
   "outputs": [
    {
     "name": "stdout",
     "output_type": "stream",
     "text": [
      "mod1\n"
     ]
    }
   ],
   "source": [
    "import mod1"
   ]
  },
  {
   "cell_type": "code",
   "execution_count": null,
   "id": "269a31c5",
   "metadata": {},
   "outputs": [],
   "source": []
  },
  {
   "cell_type": "markdown",
   "id": "63f7d828",
   "metadata": {},
   "source": [
    "### __name__ : 모듈 이름\n",
    "- 파아썬 파일을 실행하는 모든 모듈 주로 `__main__` 이름의 모듈 (실행하는 곳에서는 모듈이 main으로 표기)\n",
    "- import를 통해서 불러오는 모듈의 이름은 `모듈명` (import로 불러온 곳에서는 모듈 이름으로 표기)"
   ]
  },
  {
   "cell_type": "code",
   "execution_count": 2,
   "id": "71a9da21",
   "metadata": {},
   "outputs": [
    {
     "data": {
      "text/plain": [
       "'__main__'"
      ]
     },
     "execution_count": 2,
     "metadata": {},
     "output_type": "execute_result"
    }
   ],
   "source": [
    "__name__"
   ]
  },
  {
   "cell_type": "code",
   "execution_count": 3,
   "id": "a45e457a",
   "metadata": {},
   "outputs": [],
   "source": [
    "from mod2 import Circle, PI"
   ]
  },
  {
   "cell_type": "code",
   "execution_count": 5,
   "id": "d5540fc9",
   "metadata": {},
   "outputs": [],
   "source": [
    "c = Circle()"
   ]
  },
  {
   "cell_type": "code",
   "execution_count": null,
   "id": "1b60c3de",
   "metadata": {},
   "outputs": [],
   "source": [
    "import Math"
   ]
  }
 ],
 "metadata": {
  "kernelspec": {
   "display_name": "basic",
   "language": "python",
   "name": "python3"
  },
  "language_info": {
   "codemirror_mode": {
    "name": "ipython",
    "version": 3
   },
   "file_extension": ".py",
   "mimetype": "text/x-python",
   "name": "python",
   "nbconvert_exporter": "python",
   "pygments_lexer": "ipython3",
   "version": "3.12.10"
  }
 },
 "nbformat": 4,
 "nbformat_minor": 5
}

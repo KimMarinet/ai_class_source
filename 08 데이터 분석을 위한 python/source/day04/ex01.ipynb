{
 "cells": [
  {
   "cell_type": "markdown",
   "id": "15d2c354",
   "metadata": {},
   "source": [
    "## 파일을 읽고 쓰기\n",
    "-파일을 작업하려면 파일을 열어준다\n",
    "``` python\n",
    "open(\"파일 경로\", \"모드\")\n",
    "```\n",
    "\n",
    "- 모드\n",
    "    - r : 읽기\n",
    "    - w : 쓰기\n",
    "    - a : append의 약자, 데이터 끝에서 누적 방식으로 데이터 추가\n",
    "    - b : r, w, a와 함께 쓰이며 바이너리 데이터 작업할 때 사용 (rb, rw etc...)\n",
    "\n",
    "- 메모리에 자원 할당하므로 작업 완료 후 자원 해제가 필요하다\n",
    "```python\n",
    "f.close()\n",
    "```\n",
    "\n",
    "-파일 작성\n",
    "```python\n",
    "f.write(\"데이터\")\n",
    "```"
   ]
  },
  {
   "cell_type": "code",
   "execution_count": 1,
   "id": "717bc0e9",
   "metadata": {},
   "outputs": [],
   "source": [
    "f = open(\"C:/fileex/test1.txt\", \"w\")\n",
    "f.close() #자원 해제"
   ]
  },
  {
   "cell_type": "code",
   "execution_count": 3,
   "id": "fa2b422f",
   "metadata": {},
   "outputs": [],
   "source": [
    "f = open(\"C:/fileex/test1.txt\", \"w\")\n",
    "for i in range(1,11):\n",
    "    text = \"%d번째 줄입니다. \\n\" % i\n",
    "    f.write(text)\n",
    "f.close()"
   ]
  },
  {
   "cell_type": "code",
   "execution_count": 4,
   "id": "b300763d",
   "metadata": {},
   "outputs": [
    {
     "name": "stdout",
     "output_type": "stream",
     "text": [
      "1번째 줄입니다. \n",
      "2번째 줄입니다. \n",
      "3번째 줄입니다. \n",
      "4번째 줄입니다. \n",
      "5번째 줄입니다. \n",
      "6번째 줄입니다. \n",
      "7번째 줄입니다. \n",
      "8번째 줄입니다. \n",
      "9번째 줄입니다. \n",
      "10번째 줄입니다. \n",
      "\n"
     ]
    },
    {
     "data": {
      "text/plain": [
       "<function TextIOWrapper.close()>"
      ]
     },
     "execution_count": 4,
     "metadata": {},
     "output_type": "execute_result"
    }
   ],
   "source": [
    "f = open(\"C:/fileex/test1.txt\", \"r\")\n",
    "text = f.read()\n",
    "print(text)\n",
    "f.close"
   ]
  },
  {
   "cell_type": "markdown",
   "id": "b0ee7fc3",
   "metadata": {},
   "source": [
    "### 파일 읽기\n",
    "-`read()`\n",
    "\n",
    "-`readline()` : **한줄**로 읽어온다\n",
    "    - 더이상 읽어올 라인이 없는 경우 빈 문자열을 반환\n",
    "\n",
    "-`readlines()` : 라인별로 읽어와서 리스트로 반환\n",
    "\n",
    "-`strip` : 좌우 공백(\\s - 공백 하나, \\t - 탭문자 하나, \\n 줄개행, \\f - 줄개행) 제거"
   ]
  },
  {
   "cell_type": "code",
   "execution_count": null,
   "id": "65d8584c",
   "metadata": {},
   "outputs": [
    {
     "name": "stdout",
     "output_type": "stream",
     "text": [
      "1번째 줄입니다. \n",
      "2번째 줄입니다. \n",
      "3번째 줄입니다. \n",
      "4번째 줄입니다. \n",
      "5번째 줄입니다. \n",
      "6번째 줄입니다. \n",
      "7번째 줄입니다. \n",
      "8번째 줄입니다. \n",
      "9번째 줄입니다. \n",
      "10번째 줄입니다. \n"
     ]
    },
    {
     "data": {
      "text/plain": [
       "<function TextIOWrapper.close()>"
      ]
     },
     "execution_count": 6,
     "metadata": {},
     "output_type": "execute_result"
    }
   ],
   "source": [
    "f = open(\"C:/fileex/test1.txt\", \"r\")\n",
    "while True: #무한 루프\n",
    "    line = f.readline()\n",
    "    line.strip\n",
    "    if not line : break\n",
    "    print(line, end='') # end= '\\n' 기본값\n",
    "f.close"
   ]
  },
  {
   "cell_type": "code",
   "execution_count": 9,
   "id": "dfda3cd8",
   "metadata": {},
   "outputs": [
    {
     "name": "stdout",
     "output_type": "stream",
     "text": [
      "1번째 줄입니다.\n",
      "2번째 줄입니다.\n",
      "3번째 줄입니다.\n",
      "4번째 줄입니다.\n",
      "5번째 줄입니다.\n",
      "6번째 줄입니다.\n",
      "7번째 줄입니다.\n",
      "8번째 줄입니다.\n",
      "9번째 줄입니다.\n",
      "10번째 줄입니다.\n"
     ]
    },
    {
     "data": {
      "text/plain": [
       "<function TextIOWrapper.close()>"
      ]
     },
     "execution_count": 9,
     "metadata": {},
     "output_type": "execute_result"
    }
   ],
   "source": [
    "f = open(\"C:/fileex/test1.txt\", \"r\")\n",
    "while True: #무한 루프\n",
    "    line = f.readline()\n",
    "    line = line.strip()\n",
    "    if not line : break\n",
    "    print(line)\n",
    "f.close"
   ]
  },
  {
   "cell_type": "markdown",
   "id": "d9c1e926",
   "metadata": {},
   "source": [
    "f = open(\"C:/fileex/test1.txt\", \"r\")\n",
    "\n",
    "f.close"
   ]
  },
  {
   "cell_type": "code",
   "execution_count": 11,
   "id": "0a630a52",
   "metadata": {},
   "outputs": [
    {
     "name": "stdout",
     "output_type": "stream",
     "text": [
      "1번째 줄입니다.\n",
      "2번째 줄입니다.\n",
      "3번째 줄입니다.\n",
      "4번째 줄입니다.\n",
      "5번째 줄입니다.\n",
      "6번째 줄입니다.\n",
      "7번째 줄입니다.\n",
      "8번째 줄입니다.\n",
      "9번째 줄입니다.\n",
      "10번째 줄입니다.\n"
     ]
    },
    {
     "data": {
      "text/plain": [
       "<function TextIOWrapper.close()>"
      ]
     },
     "execution_count": 11,
     "metadata": {},
     "output_type": "execute_result"
    }
   ],
   "source": [
    "f = open(\"C:/fileex/test1.txt\", \"r\")\n",
    "lines = f.readlines()\n",
    "for line in lines:\n",
    "    line = line.strip()\n",
    "    print(line)\n",
    "\n",
    "f.close"
   ]
  },
  {
   "cell_type": "markdown",
   "id": "808f90f9",
   "metadata": {},
   "source": [
    "### 자원 해제를 자동화\n",
    "\n",
    "-with 구문\n"
   ]
  },
  {
   "cell_type": "code",
   "execution_count": 12,
   "id": "c40867c6",
   "metadata": {},
   "outputs": [
    {
     "name": "stdout",
     "output_type": "stream",
     "text": [
      "1번째 줄입니다.\n",
      "2번째 줄입니다.\n",
      "3번째 줄입니다.\n",
      "4번째 줄입니다.\n",
      "5번째 줄입니다.\n",
      "6번째 줄입니다.\n",
      "7번째 줄입니다.\n",
      "8번째 줄입니다.\n",
      "9번째 줄입니다.\n",
      "10번째 줄입니다.\n"
     ]
    }
   ],
   "source": [
    "with open(\"C:/fileex/test1.txt\", \"r\") as f:\n",
    "    for line in f:\n",
    "        print(line.strip())"
   ]
  }
 ],
 "metadata": {
  "kernelspec": {
   "display_name": "basic",
   "language": "python",
   "name": "python3"
  },
  "language_info": {
   "codemirror_mode": {
    "name": "ipython",
    "version": 3
   },
   "file_extension": ".py",
   "mimetype": "text/x-python",
   "name": "python",
   "nbconvert_exporter": "python",
   "pygments_lexer": "ipython3",
   "version": "3.12.10"
  }
 },
 "nbformat": 4,
 "nbformat_minor": 5
}

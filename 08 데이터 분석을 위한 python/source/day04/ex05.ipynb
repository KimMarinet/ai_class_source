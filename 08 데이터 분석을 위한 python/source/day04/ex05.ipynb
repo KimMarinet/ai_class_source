{
 "cells": [
  {
   "cell_type": "markdown",
   "id": "00e5342c",
   "metadata": {},
   "source": [
    "### 클래스\n",
    "\n",
    "```python\n",
    "class ...\n",
    "    def __str__(self):\n",
    "        return \"문자열\"\n",
    "```\n",
    "\n",
    "- 객체의 참조 변수를 출력하면 자동 호출되는 메서드\n",
    "    - 자바의 `toString()`과 동일한 역할"
   ]
  },
  {
   "cell_type": "code",
   "execution_count": 7,
   "id": "307871d0",
   "metadata": {},
   "outputs": [],
   "source": [
    "class Calculator:\n",
    "    def __init__(self, a, b):\n",
    "        self.a = a\n",
    "        self.b = b\n",
    "\n",
    "    def __str__(self):\n",
    "        return f\"a={self.a}, b={self.b}\"\n",
    "        \n",
    "    def add(self):\n",
    "        return self.a +  self.b\n",
    "\n",
    "    def sub(self):\n",
    "        return self.a - self.b\n",
    "\n",
    "    def mul(self):\n",
    "        return self.a * self.b\n",
    "    \n",
    "    def div(self):\n",
    "        return self.a / self.b"
   ]
  },
  {
   "cell_type": "code",
   "execution_count": 8,
   "id": "a36f61dc",
   "metadata": {},
   "outputs": [],
   "source": [
    "cal1 = Calculator(200,10)"
   ]
  },
  {
   "cell_type": "code",
   "execution_count": 9,
   "id": "74b8d4ac",
   "metadata": {},
   "outputs": [
    {
     "name": "stdout",
     "output_type": "stream",
     "text": [
      "a=200, b=10\n"
     ]
    }
   ],
   "source": [
    "print(cal1)"
   ]
  }
 ],
 "metadata": {
  "kernelspec": {
   "display_name": "basic",
   "language": "python",
   "name": "python3"
  },
  "language_info": {
   "codemirror_mode": {
    "name": "ipython",
    "version": 3
   },
   "file_extension": ".py",
   "mimetype": "text/x-python",
   "name": "python",
   "nbconvert_exporter": "python",
   "pygments_lexer": "ipython3",
   "version": "3.12.10"
  }
 },
 "nbformat": 4,
 "nbformat_minor": 5
}

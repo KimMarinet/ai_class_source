{
 "cells": [
  {
   "cell_type": "markdown",
   "id": "d773d8a6",
   "metadata": {},
   "source": [
    "### 클래스\n",
    "```python\n",
    "    class ...\n",
    "        def __call__(self, args...):\n",
    "            ...\n",
    "```\n",
    "\n",
    "- 객체 참조 변수를 함수처럼 호출하면 `__call__`함수가 호출"
   ]
  },
  {
   "cell_type": "code",
   "execution_count": 2,
   "id": "79b394e7",
   "metadata": {},
   "outputs": [],
   "source": [
    "class Accumulator:\n",
    "    def __init__(self):\n",
    "        self.num = 0\n",
    "    \n",
    "    def __call__(self, num):\n",
    "        self.num += num\n",
    "\n",
    "        return self.num"
   ]
  },
  {
   "cell_type": "code",
   "execution_count": 5,
   "id": "7dccbfd1",
   "metadata": {},
   "outputs": [],
   "source": [
    "acc = Accumulator()"
   ]
  },
  {
   "cell_type": "code",
   "execution_count": 6,
   "id": "166f1859",
   "metadata": {},
   "outputs": [
    {
     "data": {
      "text/plain": [
       "10"
      ]
     },
     "execution_count": 6,
     "metadata": {},
     "output_type": "execute_result"
    }
   ],
   "source": [
    "acc(10)"
   ]
  }
 ],
 "metadata": {
  "kernelspec": {
   "display_name": "basic",
   "language": "python",
   "name": "python3"
  },
  "language_info": {
   "codemirror_mode": {
    "name": "ipython",
    "version": 3
   },
   "file_extension": ".py",
   "mimetype": "text/x-python",
   "name": "python",
   "nbconvert_exporter": "python",
   "pygments_lexer": "ipython3",
   "version": "3.12.10"
  }
 },
 "nbformat": 4,
 "nbformat_minor": 5
}

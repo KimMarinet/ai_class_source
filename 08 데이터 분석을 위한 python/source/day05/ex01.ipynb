{
 "cells": [
  {
   "cell_type": "code",
   "execution_count": 1,
   "id": "0517462f",
   "metadata": {},
   "outputs": [
    {
     "name": "stderr",
     "output_type": "stream",
     "text": [
      "<>:2: SyntaxWarning: invalid escape sequence '\\m'\n",
      "<>:2: SyntaxWarning: invalid escape sequence '\\m'\n",
      "C:\\Users\\admin\\AppData\\Local\\Temp\\ipykernel_10228\\4157744925.py:2: SyntaxWarning: invalid escape sequence '\\m'\n",
      "  sys.path.append(\"C:\\my_mod\")\n"
     ]
    }
   ],
   "source": [
    "import sys\n",
    "sys.path.append(\"C:\\my_mod\")"
   ]
  },
  {
   "cell_type": "code",
   "execution_count": 3,
   "id": "16ae7278",
   "metadata": {},
   "outputs": [],
   "source": [
    "from game.graphic import echo_test"
   ]
  },
  {
   "cell_type": "code",
   "execution_count": 3,
   "id": "fadc77c4",
   "metadata": {},
   "outputs": [
    {
     "name": "stdout",
     "output_type": "stream",
     "text": [
      "echo\n"
     ]
    }
   ],
   "source": [
    "echo_test()"
   ]
  },
  {
   "cell_type": "code",
   "execution_count": 2,
   "id": "c7fbbbc5",
   "metadata": {},
   "outputs": [
    {
     "name": "stdout",
     "output_type": "stream",
     "text": [
      "init 작업 중...\n"
     ]
    }
   ],
   "source": [
    "import game"
   ]
  },
  {
   "cell_type": "code",
   "execution_count": null,
   "id": "c847c5e0",
   "metadata": {},
   "outputs": [],
   "source": []
  }
 ],
 "metadata": {
  "kernelspec": {
   "display_name": "basic",
   "language": "python",
   "name": "python3"
  },
  "language_info": {
   "codemirror_mode": {
    "name": "ipython",
    "version": 3
   },
   "file_extension": ".py",
   "mimetype": "text/x-python",
   "name": "python",
   "nbconvert_exporter": "python",
   "pygments_lexer": "ipython3",
   "version": "3.12.10"
  }
 },
 "nbformat": 4,
 "nbformat_minor": 5
}

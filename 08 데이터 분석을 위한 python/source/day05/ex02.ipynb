{
 "cells": [
  {
   "cell_type": "markdown",
   "id": "6e0bc423",
   "metadata": {},
   "source": [
    "### ✅ 예외처리\n",
    "\n",
    "```python\n",
    "try:\n",
    "    // 예외가 발생할 가능성이 있는 코드\n",
    "except:\n",
    "    // 예외가 발생하면 유입되는 구간, 예외 처리\n",
    "```\n",
    "***\n",
    "- `예외 정보를 확인하기 위한 예외 객체`\n",
    "\n",
    "```python\n",
    "try:\n",
    "    ...\n",
    "except 예외클래스명 as 변수:\n",
    "    ...\n",
    "```\n",
    "***\n",
    "- `다중 예외 처리`\n",
    "```python\n",
    "try:\n",
    "    ...\n",
    "except 예외클래스1:\n",
    "    ...\n",
    "except 예외클래스2:\n",
    "    ...\n",
    "```\n",
    "\n",
    "```python\n",
    "try:\n",
    "    ...\n",
    "except (예외클래스1, 예외클래스2, ...):\n",
    "    ...\n",
    "```\n",
    "***\n",
    "- 발생한 예외의 정보를 자세하게 확인하는 경우\n",
    "\n",
    "```python\n",
    "import traceback\n",
    "\n",
    "try:\n",
    "\n",
    "except:\n",
    "    print(trackback.fromat_exc())\n",
    "```"
   ]
  },
  {
   "cell_type": "code",
   "execution_count": 2,
   "id": "37f920b6",
   "metadata": {},
   "outputs": [
    {
     "name": "stdout",
     "output_type": "stream",
     "text": [
      "exception\n"
     ]
    }
   ],
   "source": [
    "try:\n",
    "    a = 10\n",
    "    b = 0\n",
    "\n",
    "    result = a/b\n",
    "    print(result)\n",
    "except:\n",
    "    print(\"exception\")"
   ]
  },
  {
   "cell_type": "code",
   "execution_count": 3,
   "id": "f3087bc7",
   "metadata": {},
   "outputs": [
    {
     "name": "stdout",
     "output_type": "stream",
     "text": [
      "division by zero\n"
     ]
    }
   ],
   "source": [
    "try:\n",
    "    a = 10\n",
    "    b = 0\n",
    "\n",
    "    result = a/b\n",
    "    print(result)\n",
    "except Exception as e:\n",
    "    print(e) # __str__ 적용됨"
   ]
  },
  {
   "cell_type": "code",
   "execution_count": 4,
   "id": "0782e128",
   "metadata": {},
   "outputs": [
    {
     "name": "stdout",
     "output_type": "stream",
     "text": [
      "list index out of range\n"
     ]
    }
   ],
   "source": [
    "try:\n",
    "    num_list = [1, 2]\n",
    "    print(num_list[2]) #\n",
    "\n",
    "    a = 10\n",
    "    b = 0\n",
    "\n",
    "    result = a/b\n",
    "    print(result)\n",
    "except ZeroDivisionError as e:\n",
    "    print(e)\n",
    "except IndexError as e:\n",
    "    print(e)\n"
   ]
  },
  {
   "cell_type": "code",
   "execution_count": 6,
   "id": "63fbb431",
   "metadata": {},
   "outputs": [
    {
     "name": "stdout",
     "output_type": "stream",
     "text": [
      "list index out of range\n"
     ]
    }
   ],
   "source": [
    "try:\n",
    "    num_list = [1, 2]\n",
    "    print(num_list[2]) #\n",
    "\n",
    "    a = 10\n",
    "    b = 0\n",
    "\n",
    "    result = a/b\n",
    "    print(result)\n",
    "except (ZeroDivisionError, IndexError) as e:\n",
    "    print(e)"
   ]
  },
  {
   "cell_type": "code",
   "execution_count": 10,
   "id": "eefe25f7",
   "metadata": {},
   "outputs": [
    {
     "name": "stdout",
     "output_type": "stream",
     "text": [
      "list index out of range\n",
      "Traceback (most recent call last):\n",
      "  File \"C:\\Users\\admin\\AppData\\Local\\Temp\\ipykernel_12548\\1251170969.py\", line 5, in <module>\n",
      "    print(num_list[2])\n",
      "          ~~~~~~~~^^^\n",
      "IndexError: list index out of range\n",
      "\n"
     ]
    }
   ],
   "source": [
    "import traceback\n",
    "\n",
    "try:\n",
    "    num_list = [1, 2]\n",
    "    print(num_list[2])\n",
    "\n",
    "    a = 10\n",
    "    b = 0\n",
    "\n",
    "    result = a/b\n",
    "    print(result)\n",
    "except (ZeroDivisionError, IndexError) as e:\n",
    "    print(e)\n",
    "    print(traceback.format_exc())"
   ]
  },
  {
   "cell_type": "markdown",
   "id": "56725eaf",
   "metadata": {},
   "source": [
    "#### ✅ 예외가 발생하지 않을 경우 공통 처리 부분\n",
    "\n",
    "```python\n",
    "try:\n",
    "    ...\n",
    "except:\n",
    "    ...\n",
    "else:\n",
    "    # 예외가 발생하지 않으면 실행되는 코드\n",
    "```"
   ]
  },
  {
   "cell_type": "markdown",
   "id": "3e0e9306",
   "metadata": {},
   "source": [
    "#### ✅ 예외가 발생하든 말든 무조건 실행되는 부분\n",
    "\n",
    "```python\n",
    "try:\n",
    "    ...\n",
    "except:\n",
    "    ...\n",
    "else:\n",
    "    ...\n",
    "finally:\n",
    "    # 무조건 실행\n",
    "```"
   ]
  },
  {
   "cell_type": "code",
   "execution_count": 12,
   "id": "4613744c",
   "metadata": {},
   "outputs": [
    {
     "name": "stdout",
     "output_type": "stream",
     "text": [
      "무조건 실행\n"
     ]
    },
    {
     "data": {
      "text/plain": [
       "30"
      ]
     },
     "execution_count": 12,
     "metadata": {},
     "output_type": "execute_result"
    }
   ],
   "source": [
    "def add(num1, num2):\n",
    "    try:\n",
    "        return num1 + num2\n",
    "    finally:\n",
    "        print(\"무조건 실행\")\n",
    "\n",
    "add(10,20)"
   ]
  },
  {
   "cell_type": "markdown",
   "id": "00bbb90b",
   "metadata": {},
   "source": [
    "#### ✅ 예외 발생 시키기\n",
    "\n",
    "```python\n",
    "raise 예외 객체\n",
    "```"
   ]
  },
  {
   "cell_type": "code",
   "execution_count": 13,
   "id": "218c9674",
   "metadata": {},
   "outputs": [
    {
     "ename": "Exception",
     "evalue": "예외 발생...",
     "output_type": "error",
     "traceback": [
      "\u001b[31m---------------------------------------------------------------------------\u001b[39m",
      "\u001b[31mException\u001b[39m                                 Traceback (most recent call last)",
      "\u001b[36mCell\u001b[39m\u001b[36m \u001b[39m\u001b[32mIn[13]\u001b[39m\u001b[32m, line 3\u001b[39m\n\u001b[32m      1\u001b[39m result = \u001b[38;5;28;01mFalse\u001b[39;00m\n\u001b[32m      2\u001b[39m \u001b[38;5;28;01mif\u001b[39;00m \u001b[38;5;129;01mnot\u001b[39;00m result :\n\u001b[32m----> \u001b[39m\u001b[32m3\u001b[39m     \u001b[38;5;28;01mraise\u001b[39;00m \u001b[38;5;167;01mException\u001b[39;00m(\u001b[33m\"\u001b[39m\u001b[33m예외 발생...\u001b[39m\u001b[33m\"\u001b[39m)\n",
      "\u001b[31mException\u001b[39m: 예외 발생..."
     ]
    }
   ],
   "source": [
    "result = False\n",
    "if not result :\n",
    "    raise Exception(\"예외 발생...\")"
   ]
  },
  {
   "cell_type": "code",
   "execution_count": null,
   "id": "f85bb207",
   "metadata": {},
   "outputs": [],
   "source": []
  }
 ],
 "metadata": {
  "kernelspec": {
   "display_name": "basic",
   "language": "python",
   "name": "python3"
  },
  "language_info": {
   "codemirror_mode": {
    "name": "ipython",
    "version": 3
   },
   "file_extension": ".py",
   "mimetype": "text/x-python",
   "name": "python",
   "nbconvert_exporter": "python",
   "pygments_lexer": "ipython3",
   "version": "3.12.10"
  }
 },
 "nbformat": 4,
 "nbformat_minor": 5
}

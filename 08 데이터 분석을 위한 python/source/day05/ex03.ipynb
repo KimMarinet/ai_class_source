{
 "cells": [
  {
   "cell_type": "markdown",
   "id": "28403778",
   "metadata": {},
   "source": [
    "#### 사용자 정의 예외\n",
    "\n",
    "- Exception 클래스를 상속 받으면 예외 클래스가 된다."
   ]
  },
  {
   "cell_type": "code",
   "execution_count": 5,
   "id": "32385a44",
   "metadata": {},
   "outputs": [],
   "source": [
    "class UserIdError(Exception):\n",
    "    def __str__(self):\n",
    "        return \"아이디가 일치하지 않습니다\"\n",
    "\n",
    "class UserPasswordError(Exception):\n",
    "    def _str__(self):\n",
    "        return \"비밀번호가 일치하지 않습니다\""
   ]
  },
  {
   "cell_type": "code",
   "execution_count": 6,
   "id": "db4ca4ed",
   "metadata": {},
   "outputs": [],
   "source": [
    "def login(user_id, user_pw):\n",
    "    if user_id != 'user01':\n",
    "        raise UserIdError(\"아이디가 일치하지 않음\")\n",
    "\n",
    "    if user_pw != '1234':\n",
    "        raise UserPasswordError(\"비밀번호가 일치하지 않음\")"
   ]
  },
  {
   "cell_type": "code",
   "execution_count": 7,
   "id": "84c7aac3",
   "metadata": {},
   "outputs": [
    {
     "name": "stdout",
     "output_type": "stream",
     "text": [
      "아이디가 일치하지 않습니다\n"
     ]
    }
   ],
   "source": [
    "try:\n",
    "    login('user02', '12345')\n",
    "except(UserIdError, UserPasswordError) as e:\n",
    "    print(e)"
   ]
  }
 ],
 "metadata": {
  "kernelspec": {
   "display_name": "basic",
   "language": "python",
   "name": "python3"
  },
  "language_info": {
   "codemirror_mode": {
    "name": "ipython",
    "version": 3
   },
   "file_extension": ".py",
   "mimetype": "text/x-python",
   "name": "python",
   "nbconvert_exporter": "python",
   "pygments_lexer": "ipython3",
   "version": "3.12.10"
  }
 },
 "nbformat": 4,
 "nbformat_minor": 5
}

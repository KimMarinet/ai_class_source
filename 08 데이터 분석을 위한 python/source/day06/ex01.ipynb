{
 "cells": [
  {
   "cell_type": "code",
   "execution_count": 2,
   "id": "6b0aa19a",
   "metadata": {},
   "outputs": [],
   "source": [
    "import time"
   ]
  },
  {
   "cell_type": "code",
   "execution_count": 3,
   "id": "961f3027",
   "metadata": {},
   "outputs": [
    {
     "data": {
      "text/plain": [
       "1748569110.9829378"
      ]
     },
     "execution_count": 3,
     "metadata": {},
     "output_type": "execute_result"
    }
   ],
   "source": [
    "time.time()"
   ]
  },
  {
   "cell_type": "code",
   "execution_count": 5,
   "id": "93a34762",
   "metadata": {},
   "outputs": [],
   "source": [
    "strdate = time.strftime('%Y.%m.%d %H:%m')"
   ]
  },
  {
   "cell_type": "code",
   "execution_count": 6,
   "id": "49220852",
   "metadata": {},
   "outputs": [
    {
     "data": {
      "text/plain": [
       "'2025.05.30 10:05'"
      ]
     },
     "execution_count": 6,
     "metadata": {},
     "output_type": "execute_result"
    }
   ],
   "source": [
    "strdate"
   ]
  },
  {
   "cell_type": "markdown",
   "id": "00cd60c9",
   "metadata": {},
   "source": [
    "##### 사탕 60, 초콜릿 100, 잴리 80 똑같은 묶음으로 몇 최대 묶음 나눌 수 있는지 구하시오"
   ]
  },
  {
   "cell_type": "code",
   "execution_count": 8,
   "id": "739feb62",
   "metadata": {},
   "outputs": [
    {
     "data": {
      "text/plain": [
       "20"
      ]
     },
     "execution_count": 8,
     "metadata": {},
     "output_type": "execute_result"
    }
   ],
   "source": [
    "import math\n",
    "\n",
    "a = math.gcd(60, 100, 80)\n",
    "a"
   ]
  },
  {
   "cell_type": "markdown",
   "id": "c36b2a51",
   "metadata": {},
   "source": [
    "##### 시내버스가 15분마다 마을버스가 25분마다 도착할 때 서로 만나는 빠른 시간은?"
   ]
  },
  {
   "cell_type": "code",
   "execution_count": 9,
   "id": "cb0b30e4",
   "metadata": {},
   "outputs": [
    {
     "data": {
      "text/plain": [
       "75"
      ]
     },
     "execution_count": 9,
     "metadata": {},
     "output_type": "execute_result"
    }
   ],
   "source": [
    "math.lcm(15, 25)"
   ]
  },
  {
   "cell_type": "code",
   "execution_count": 100,
   "id": "67f3d44d",
   "metadata": {},
   "outputs": [],
   "source": [
    "import random\n",
    "\n",
    "def gacha() :\n",
    "    a = random.random() % 100 *100\n",
    "    #print(a)\n",
    "    if a <= 1 :\n",
    "        print('***********전설**********')\n",
    "    elif 1 < a <= 15:\n",
    "        print('희귀')\n",
    "    elif 15 < a <= 55:\n",
    "        print(\"고급\")\n",
    "    else:\n",
    "        print('일반')"
   ]
  },
  {
   "cell_type": "code",
   "execution_count": 122,
   "id": "af47f20c",
   "metadata": {},
   "outputs": [
    {
     "name": "stdout",
     "output_type": "stream",
     "text": [
      "----------\n",
      "일반\n",
      "----------\n",
      "고급\n",
      "----------\n",
      "일반\n",
      "----------\n",
      "일반\n",
      "----------\n",
      "고급\n",
      "----------\n",
      "고급\n",
      "----------\n",
      "일반\n",
      "----------\n",
      "일반\n",
      "----------\n",
      "일반\n",
      "----------\n",
      "고급\n"
     ]
    }
   ],
   "source": [
    "for i in range(1,11):\n",
    "    print('-'*10)\n",
    "    gacha()"
   ]
  },
  {
   "cell_type": "code",
   "execution_count": 123,
   "id": "d0b48fbe",
   "metadata": {},
   "outputs": [],
   "source": [
    "import itertools"
   ]
  },
  {
   "cell_type": "code",
   "execution_count": 124,
   "id": "e82d398a",
   "metadata": {},
   "outputs": [],
   "source": [
    "nums = [1,2,3,4]"
   ]
  },
  {
   "cell_type": "code",
   "execution_count": null,
   "id": "6255ceb9",
   "metadata": {},
   "outputs": [
    {
     "data": {
      "text/plain": [
       "[(1, 2),\n",
       " (1, 3),\n",
       " (1, 4),\n",
       " (2, 1),\n",
       " (2, 3),\n",
       " (2, 4),\n",
       " (3, 1),\n",
       " (3, 2),\n",
       " (3, 4),\n",
       " (4, 1),\n",
       " (4, 2),\n",
       " (4, 3)]"
      ]
     },
     "execution_count": 126,
     "metadata": {},
     "output_type": "execute_result"
    }
   ],
   "source": [
    "a = list( itertools.permutations(nums, 2))\n",
    "a\n",
    "\n",
    "\n"
   ]
  }
 ],
 "metadata": {
  "kernelspec": {
   "display_name": "basic",
   "language": "python",
   "name": "python3"
  },
  "language_info": {
   "codemirror_mode": {
    "name": "ipython",
    "version": 3
   },
   "file_extension": ".py",
   "mimetype": "text/x-python",
   "name": "python",
   "nbconvert_exporter": "python",
   "pygments_lexer": "ipython3",
   "version": "3.12.10"
  }
 },
 "nbformat": 4,
 "nbformat_minor": 5
}

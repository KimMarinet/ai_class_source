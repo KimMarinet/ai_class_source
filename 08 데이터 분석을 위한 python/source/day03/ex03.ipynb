{
 "cells": [
  {
   "cell_type": "markdown",
   "id": "05af38c6",
   "metadata": {},
   "source": [
    "## 파이썬 함수의 구조\n",
    "\n",
    "```python\n",
    "def 함수명 (매개변수 정의):\n",
    "    수행코드...\n",
    "```"
   ]
  },
  {
   "cell_type": "code",
   "execution_count": 1,
   "id": "872d4b9d",
   "metadata": {},
   "outputs": [],
   "source": [
    "def add(a, b):\n",
    "    return a + b"
   ]
  },
  {
   "cell_type": "code",
   "execution_count": 2,
   "id": "a35f2aac",
   "metadata": {},
   "outputs": [
    {
     "data": {
      "text/plain": [
       "30"
      ]
     },
     "execution_count": 2,
     "metadata": {},
     "output_type": "execute_result"
    }
   ],
   "source": [
    "result = add(10,20)\n",
    "result"
   ]
  },
  {
   "cell_type": "code",
   "execution_count": 3,
   "id": "9be16af8",
   "metadata": {},
   "outputs": [
    {
     "data": {
      "text/plain": [
       "30"
      ]
     },
     "execution_count": 3,
     "metadata": {},
     "output_type": "execute_result"
    }
   ],
   "source": [
    "result = add(b = 20, a = 10)\n",
    "result"
   ]
  },
  {
   "cell_type": "markdown",
   "id": "ad7285be",
   "metadata": {},
   "source": [
    "## 가변 매개변수\n",
    "-매개변수에 *을 붙인다"
   ]
  },
  {
   "cell_type": "code",
   "execution_count": 4,
   "id": "564f2100",
   "metadata": {},
   "outputs": [],
   "source": [
    "def calc(oper, *args):\n",
    "    result = 0\n",
    "    if oper == 'add':\n",
    "        for num in args: result += num\n",
    "    elif oper == 'mul':\n",
    "        result = 1\n",
    "        for num in args: result *= num\n",
    "    \n",
    "    return result"
   ]
  },
  {
   "cell_type": "code",
   "execution_count": 5,
   "id": "e0c56564",
   "metadata": {},
   "outputs": [
    {
     "data": {
      "text/plain": [
       "100"
      ]
     },
     "execution_count": 5,
     "metadata": {},
     "output_type": "execute_result"
    }
   ],
   "source": [
    "calc(\"add\", 10,20,30,40)"
   ]
  },
  {
   "cell_type": "code",
   "execution_count": 7,
   "id": "cc3e364b",
   "metadata": {},
   "outputs": [
    {
     "data": {
      "text/plain": [
       "200"
      ]
     },
     "execution_count": 7,
     "metadata": {},
     "output_type": "execute_result"
    }
   ],
   "source": [
    "calc(\"mul\", 10, 20)"
   ]
  }
 ],
 "metadata": {
  "kernelspec": {
   "display_name": "basic",
   "language": "python",
   "name": "python3"
  },
  "language_info": {
   "codemirror_mode": {
    "name": "ipython",
    "version": 3
   },
   "file_extension": ".py",
   "mimetype": "text/x-python",
   "name": "python",
   "nbconvert_exporter": "python",
   "pygments_lexer": "ipython3",
   "version": "3.12.10"
  }
 },
 "nbformat": 4,
 "nbformat_minor": 5
}

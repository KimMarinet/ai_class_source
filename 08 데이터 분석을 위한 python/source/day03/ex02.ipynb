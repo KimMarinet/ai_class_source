{
 "cells": [
  {
   "cell_type": "markdown",
   "id": "1195cf57",
   "metadata": {},
   "source": [
    "### while을 사용하여 1~100까지 더하기"
   ]
  },
  {
   "cell_type": "code",
   "execution_count": 5,
   "id": "c8c3b2d6",
   "metadata": {},
   "outputs": [
    {
     "name": "stdout",
     "output_type": "stream",
     "text": [
      "5050\n"
     ]
    }
   ],
   "source": [
    "a = 1\n",
    "sum = 0\n",
    "while a <= 100:\n",
    "    sum += a\n",
    "    a += 1\n",
    "\n",
    "print(sum)"
   ]
  },
  {
   "cell_type": "markdown",
   "id": "39ed01d7",
   "metadata": {},
   "source": [
    "## for문\n",
    "- for문의 기본 구조\n",
    "```python\n",
    "    for 변수 in 리스트, 튜플 또는 반복 가능한 객체 -> 이러터레이터 등등, 문자열 :\n",
    "        반복 수행될 코드\n",
    "```"
   ]
  },
  {
   "cell_type": "code",
   "execution_count": 6,
   "id": "be67a110",
   "metadata": {},
   "outputs": [
    {
     "name": "stdout",
     "output_type": "stream",
     "text": [
      "멜론\n",
      "사과\n",
      "망고\n",
      "오렌지\n"
     ]
    }
   ],
   "source": [
    "fruits = {'사과', '오렌지', '멜론', '망고'}\n",
    "\n",
    "for fruit in fruits:\n",
    "    print(fruit)"
   ]
  },
  {
   "cell_type": "code",
   "execution_count": 7,
   "id": "6b581eb8",
   "metadata": {},
   "outputs": [],
   "source": [
    "person = {\"name\": \"이름\", \"age\" : 40, \"address\" : \"주소\"}"
   ]
  },
  {
   "cell_type": "code",
   "execution_count": 9,
   "id": "595612f5",
   "metadata": {},
   "outputs": [
    {
     "data": {
      "text/plain": [
       "dict_items([('name', '이름'), ('age', 40), ('address', '주소')])"
      ]
     },
     "execution_count": 9,
     "metadata": {},
     "output_type": "execute_result"
    }
   ],
   "source": [
    "person.items()"
   ]
  },
  {
   "cell_type": "code",
   "execution_count": 12,
   "id": "72607d9d",
   "metadata": {},
   "outputs": [
    {
     "name": "stdout",
     "output_type": "stream",
     "text": [
      "name 이름\n",
      "age 40\n",
      "address 주소\n",
      "name 이름\n",
      "age 40\n",
      "address 주소\n"
     ]
    }
   ],
   "source": [
    "for item in person.items():\n",
    "    print(item[0], item[1])\n",
    "\n",
    "for key, value in person.items():\n",
    "    print(key, value)"
   ]
  },
  {
   "cell_type": "code",
   "execution_count": null,
   "id": "34bd0f4c",
   "metadata": {},
   "outputs": [],
   "source": [
    "for i in range(2, 10):\n",
    "    print(\"-\"*10, i, '단', \"-\"*10)\n",
    "    for j in range(1,10):\n",
    "        print(f\"{i} X {j} = {i*j}\")\n"
   ]
  },
  {
   "cell_type": "markdown",
   "id": "f5410139",
   "metadata": {},
   "source": [
    "## 리스트 컴프리헨션\n",
    "- 리스트 내에서 for문과 if문을 사용하여 바로 변환하고 할당"
   ]
  },
  {
   "cell_type": "code",
   "execution_count": 15,
   "id": "29a6b376",
   "metadata": {},
   "outputs": [
    {
     "data": {
      "text/plain": [
       "[1, 4, 9, 16, 25, 36, 49, 64, 81, 100]"
      ]
     },
     "execution_count": 15,
     "metadata": {},
     "output_type": "execute_result"
    }
   ],
   "source": [
    "nums = [1,2,3,4,5,6,7,8,9,10]\n",
    "nums3 = [num * num for num in nums]\n",
    "\n",
    "nums3"
   ]
  },
  {
   "cell_type": "code",
   "execution_count": 17,
   "id": "99620427",
   "metadata": {},
   "outputs": [
    {
     "data": {
      "text/plain": [
       "[4, 16, 36, 64, 100]"
      ]
     },
     "execution_count": 17,
     "metadata": {},
     "output_type": "execute_result"
    }
   ],
   "source": [
    "nums4 = [num * num for num in nums if num % 2 == 0]\n",
    "\n",
    "nums4"
   ]
  },
  {
   "cell_type": "code",
   "execution_count": 18,
   "id": "2fc60335",
   "metadata": {},
   "outputs": [],
   "source": [
    "nums1 = [1,2,3,4,5,6,8,9,10]\n",
    "nums2 = [10,20,30,40,50,60,70,80,90,100]"
   ]
  },
  {
   "cell_type": "code",
   "execution_count": null,
   "id": "c6a5272b",
   "metadata": {},
   "outputs": [],
   "source": [
    "nums5 = [num1 * num2 for num1 in nums1\n",
    "            for num2 in nums2]\n",
    "nums5"
   ]
  }
 ],
 "metadata": {
  "kernelspec": {
   "display_name": "basic",
   "language": "python",
   "name": "python3"
  },
  "language_info": {
   "codemirror_mode": {
    "name": "ipython",
    "version": 3
   },
   "file_extension": ".py",
   "mimetype": "text/x-python",
   "name": "python",
   "nbconvert_exporter": "python",
   "pygments_lexer": "ipython3",
   "version": "3.12.10"
  }
 },
 "nbformat": 4,
 "nbformat_minor": 5
}

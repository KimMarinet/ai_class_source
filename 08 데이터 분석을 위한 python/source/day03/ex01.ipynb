{
 "cells": [
  {
   "cell_type": "markdown",
   "id": "a912c710",
   "metadata": {},
   "source": [
    "## 비교 연산자\n",
    "\n",
    "```python\n",
    "x == y : 동등성 비교\n",
    "x is y : 동일성 비교"
   ]
  },
  {
   "cell_type": "code",
   "execution_count": 1,
   "id": "9d167cc9",
   "metadata": {},
   "outputs": [],
   "source": [
    "a = [1,2,3]\n",
    "b = [1,2,3]"
   ]
  },
  {
   "cell_type": "code",
   "execution_count": 2,
   "id": "874e6bc9",
   "metadata": {},
   "outputs": [
    {
     "data": {
      "text/plain": [
       "True"
      ]
     },
     "execution_count": 2,
     "metadata": {},
     "output_type": "execute_result"
    }
   ],
   "source": [
    "a == b # 동등성 비교"
   ]
  },
  {
   "cell_type": "code",
   "execution_count": 3,
   "id": "dac85373",
   "metadata": {},
   "outputs": [
    {
     "data": {
      "text/plain": [
       "False"
      ]
     },
     "execution_count": 3,
     "metadata": {},
     "output_type": "execute_result"
    }
   ],
   "source": [
    "a is b #동일성 비교"
   ]
  },
  {
   "cell_type": "markdown",
   "id": "efa1b3ad",
   "metadata": {},
   "source": [
    "## in, not in\n",
    "- 문자열, 리스트, 튜플 등에서 주로 사용\n",
    "- 값이 포함되어 있는지 확인"
   ]
  },
  {
   "cell_type": "code",
   "execution_count": 4,
   "id": "0002d9d9",
   "metadata": {},
   "outputs": [
    {
     "data": {
      "text/plain": [
       "True"
      ]
     },
     "execution_count": 4,
     "metadata": {},
     "output_type": "execute_result"
    }
   ],
   "source": [
    "'A' in 'ABC'"
   ]
  },
  {
   "cell_type": "code",
   "execution_count": 5,
   "id": "d39cbd6c",
   "metadata": {},
   "outputs": [],
   "source": [
    "a = ['사과', '오렌지', '멜론']"
   ]
  },
  {
   "cell_type": "code",
   "execution_count": 6,
   "id": "f9e5bcdf",
   "metadata": {},
   "outputs": [
    {
     "data": {
      "text/plain": [
       "True"
      ]
     },
     "execution_count": 6,
     "metadata": {},
     "output_type": "execute_result"
    }
   ],
   "source": [
    "'멜론' in a"
   ]
  },
  {
   "cell_type": "markdown",
   "id": "cfeafa68",
   "metadata": {},
   "source": [
    "## 조건부  표현식\n",
    "- 변수 = 참일 경우 값 if 조건식 else 조건식이 거짓일 때 값"
   ]
  },
  {
   "cell_type": "code",
   "execution_count": 8,
   "id": "99881561",
   "metadata": {},
   "outputs": [
    {
     "data": {
      "text/plain": [
       "'가입 불가'"
      ]
     },
     "execution_count": 8,
     "metadata": {},
     "output_type": "execute_result"
    }
   ],
   "source": [
    "age = 10\n",
    "\n",
    "message = '가입 가능' if age >= 14 else '가입 불가'\n",
    "message"
   ]
  },
  {
   "cell_type": "code",
   "execution_count": null,
   "id": "e040f3c1",
   "metadata": {},
   "outputs": [],
   "source": []
  }
 ],
 "metadata": {
  "kernelspec": {
   "display_name": "basic",
   "language": "python",
   "name": "python3"
  },
  "language_info": {
   "codemirror_mode": {
    "name": "ipython",
    "version": 3
   },
   "file_extension": ".py",
   "mimetype": "text/x-python",
   "name": "python",
   "nbconvert_exporter": "python",
   "pygments_lexer": "ipython3",
   "version": "3.12.10"
  }
 },
 "nbformat": 4,
 "nbformat_minor": 5
}

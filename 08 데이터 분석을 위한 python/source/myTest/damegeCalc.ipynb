{
 "cells": [
  {
   "cell_type": "markdown",
   "id": "b6c2aed6",
   "metadata": {},
   "source": [
    "##### ✅ 캐릭터 스테이터스 정보"
   ]
  },
  {
   "cell_type": "code",
   "execution_count": null,
   "id": "f89cf1f4",
   "metadata": {},
   "outputs": [],
   "source": [
    "print(\"공격력\")\n",
    "#atk = input()"
   ]
  }
 ],
 "metadata": {
  "kernelspec": {
   "display_name": "basic",
   "language": "python",
   "name": "python3"
  },
  "language_info": {
   "name": "python",
   "version": "3.12.10"
  }
 },
 "nbformat": 4,
 "nbformat_minor": 5
}

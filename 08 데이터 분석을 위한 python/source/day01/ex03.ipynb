{
 "cells": [
  {
   "cell_type": "markdown",
   "id": "78c95a1a",
   "metadata": {},
   "source": [
    "## 문자형\n",
    "\n",
    "* \",'로 감싼 값\n",
    "* + 연산자로 문자열 결합\n",
    "* #으로 주석 처리\n",
    "* \"\"\", ''' 응로 여러줄 주석 처리"
   ]
  },
  {
   "cell_type": "code",
   "execution_count": 30,
   "id": "d73d8a36",
   "metadata": {},
   "outputs": [
    {
     "data": {
      "text/plain": [
       "str"
      ]
     },
     "execution_count": 30,
     "metadata": {},
     "output_type": "execute_result"
    }
   ],
   "source": [
    "a = 'hello'\n",
    "type(a)"
   ]
  },
  {
   "cell_type": "code",
   "execution_count": 31,
   "id": "c91005e7",
   "metadata": {},
   "outputs": [],
   "source": [
    "b = 'nice to meet u'\n",
    "\n",
    "c = a + b"
   ]
  },
  {
   "cell_type": "code",
   "execution_count": 32,
   "id": "bc83adaa",
   "metadata": {},
   "outputs": [
    {
     "name": "stdout",
     "output_type": "stream",
     "text": [
      "hellonice to meet u\n"
     ]
    }
   ],
   "source": [
    "print(c)"
   ]
  },
  {
   "cell_type": "code",
   "execution_count": 33,
   "id": "8ab9c5d5",
   "metadata": {},
   "outputs": [
    {
     "name": "stdout",
     "output_type": "stream",
     "text": [
      "hello,\n",
      "nice to meet u\n",
      "I'm, hungry\n"
     ]
    }
   ],
   "source": [
    "'''\n",
    "설명 1\n",
    "설명 2\n",
    "'''\n",
    "\n",
    "e = \"\"\"hello,\n",
    "nice to meet u\n",
    "I'm, hungry\"\"\"\n",
    "\n",
    "print(e)"
   ]
  },
  {
   "cell_type": "code",
   "execution_count": 34,
   "id": "b44781fc",
   "metadata": {},
   "outputs": [
    {
     "data": {
      "text/plain": [
       "'Apple     ,'"
      ]
     },
     "execution_count": 34,
     "metadata": {},
     "output_type": "execute_result"
    }
   ],
   "source": [
    "'%-10s,' % 'Apple'"
   ]
  },
  {
   "cell_type": "code",
   "execution_count": 35,
   "id": "1da3da23",
   "metadata": {},
   "outputs": [
    {
     "name": "stdout",
     "output_type": "stream",
     "text": [
      "100.123457\n",
      "100.1235\n"
     ]
    }
   ],
   "source": [
    "a = 100.123456789\n",
    "print('%f' % a)\n",
    "print('%2.4f' % a)"
   ]
  },
  {
   "cell_type": "code",
   "execution_count": 36,
   "id": "81411d98",
   "metadata": {},
   "outputs": [
    {
     "name": "stdout",
     "output_type": "stream",
     "text": [
      "Im hit 2 bullet\n"
     ]
    }
   ],
   "source": [
    "k = 'Im hit {0} bullet'.format(2);\n",
    "print(k)"
   ]
  },
  {
   "cell_type": "code",
   "execution_count": 43,
   "id": "10ffe8b9",
   "metadata": {},
   "outputs": [
    {
     "data": {
      "text/plain": [
       "'Im hit 2 bullet'"
      ]
     },
     "execution_count": 43,
     "metadata": {},
     "output_type": "execute_result"
    }
   ],
   "source": [
    "\"Im hit {0} bullet\".format(2)"
   ]
  },
  {
   "cell_type": "code",
   "execution_count": 41,
   "id": "3c5a76ae",
   "metadata": {},
   "outputs": [
    {
     "data": {
      "text/plain": [
       "'I eat five apples.'"
      ]
     },
     "execution_count": 41,
     "metadata": {},
     "output_type": "execute_result"
    }
   ],
   "source": [
    "\"I eat %s apples.\" % \"five\""
   ]
  },
  {
   "cell_type": "markdown",
   "id": "2f726cf7",
   "metadata": {},
   "source": [
    "### f 형식화\n",
    "- 문자열 앞에 f를 붙이면 된다.\n",
    "- 변수를 직접 형식화 문자열에 출력\n",
    "- 간단한 연산, 함수 호출도 가능"
   ]
  }
 ],
 "metadata": {
  "kernelspec": {
   "display_name": "basic",
   "language": "python",
   "name": "python3"
  },
  "language_info": {
   "codemirror_mode": {
    "name": "ipython",
    "version": 3
   },
   "file_extension": ".py",
   "mimetype": "text/x-python",
   "name": "python",
   "nbconvert_exporter": "python",
   "pygments_lexer": "ipython3",
   "version": "3.12.10"
  }
 },
 "nbformat": 4,
 "nbformat_minor": 5
}

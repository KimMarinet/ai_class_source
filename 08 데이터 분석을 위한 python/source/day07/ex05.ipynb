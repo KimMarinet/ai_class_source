{
 "cells": [
  {
   "cell_type": "markdown",
   "id": "dc5d2a2c",
   "metadata": {},
   "source": [
    "#### 정규 표현식\n",
    "##### \\[\\] 문자 클래스 : 문자 하나 하나"
   ]
  },
  {
   "cell_type": "code",
   "execution_count": null,
   "id": "0e8ec35f",
   "metadata": {},
   "outputs": [],
   "source": [
    "import re"
   ]
  }
 ],
 "metadata": {
  "kernelspec": {
   "display_name": "basic",
   "language": "python",
   "name": "python3"
  },
  "language_info": {
   "name": "python",
   "version": "3.12.10"
  }
 },
 "nbformat": 4,
 "nbformat_minor": 5
}

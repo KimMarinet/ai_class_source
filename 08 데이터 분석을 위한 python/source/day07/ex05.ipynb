{
 "cells": [
  {
   "cell_type": "markdown",
   "id": "dc5d2a2c",
   "metadata": {},
   "source": [
    "#### 정규 표현식\n",
    "##### \\[\\] 문자 클래스 : 문자 하나 하나\n",
    "\n",
    "```python\n",
    "[abc] : a, b, c\n",
    "```\n",
    "\n",
    "- 문자의 범위 - \n",
    "```python\n",
    "[a-z] # a ~ z\n",
    "[A-Z] # A ~ Z 알파벳 대문자\n",
    "[a-zA-z] # 대소문자 구분 없는 알파벳 문자 \n",
    "[ㄱ-ㅎ가-힣] # 한글 문자 1개\n",
    "[0-9] # 숫자 문자 1개\n",
    "[^0-9] # 0 ~ 9 숫자를 제외한 모든 문자 (^ ~를 제외한 문자)\n",
    "```"
   ]
  },
  {
   "cell_type": "code",
   "execution_count": 2,
   "id": "0e8ec35f",
   "metadata": {},
   "outputs": [],
   "source": [
    "import re"
   ]
  },
  {
   "cell_type": "code",
   "execution_count": 23,
   "id": "8a0155ef",
   "metadata": {},
   "outputs": [],
   "source": [
    "p = re.compile(\"^010.?\\\\d{4}.?\\\\d{4}$\")"
   ]
  },
  {
   "cell_type": "code",
   "execution_count": 24,
   "id": "c031e1c2",
   "metadata": {},
   "outputs": [
    {
     "data": {
      "text/plain": [
       "<re.Match object; span=(0, 13), match='010-8849-3645'>"
      ]
     },
     "execution_count": 24,
     "metadata": {},
     "output_type": "execute_result"
    }
   ],
   "source": [
    "p.search(\"010-8849-3645\")"
   ]
  },
  {
   "cell_type": "code",
   "execution_count": 27,
   "id": "8bb35d90",
   "metadata": {},
   "outputs": [],
   "source": [
    "p = re.compile(r\"^010\\D\\d{4}\\D\\d{4}$\")"
   ]
  },
  {
   "cell_type": "code",
   "execution_count": 28,
   "id": "c2945f3c",
   "metadata": {},
   "outputs": [
    {
     "data": {
      "text/plain": [
       "<re.Match object; span=(0, 13), match='010-1234-1234'>"
      ]
     },
     "execution_count": 28,
     "metadata": {},
     "output_type": "execute_result"
    }
   ],
   "source": [
    "p.search(\"010-1234-1234\")"
   ]
  }
 ],
 "metadata": {
  "kernelspec": {
   "display_name": "basic",
   "language": "python",
   "name": "python3"
  },
  "language_info": {
   "codemirror_mode": {
    "name": "ipython",
    "version": 3
   },
   "file_extension": ".py",
   "mimetype": "text/x-python",
   "name": "python",
   "nbconvert_exporter": "python",
   "pygments_lexer": "ipython3",
   "version": "3.12.10"
  }
 },
 "nbformat": 4,
 "nbformat_minor": 5
}

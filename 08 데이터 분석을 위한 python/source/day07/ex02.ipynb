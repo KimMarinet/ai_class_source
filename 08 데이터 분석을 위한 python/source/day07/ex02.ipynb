{
 "cells": [
  {
   "cell_type": "code",
   "execution_count": 3,
   "id": "40d2ec6e",
   "metadata": {},
   "outputs": [],
   "source": [
    "from faker import Faker"
   ]
  },
  {
   "cell_type": "code",
   "execution_count": 4,
   "id": "e296f3d1",
   "metadata": {},
   "outputs": [],
   "source": [
    "faker = Faker(\"ko-KR\")"
   ]
  },
  {
   "cell_type": "code",
   "execution_count": 5,
   "id": "22e511ff",
   "metadata": {},
   "outputs": [
    {
     "data": {
      "text/plain": [
       "'김예준'"
      ]
     },
     "execution_count": 5,
     "metadata": {},
     "output_type": "execute_result"
    }
   ],
   "source": [
    "faker.name()"
   ]
  },
  {
   "cell_type": "code",
   "execution_count": 7,
   "id": "c40cc608",
   "metadata": {},
   "outputs": [
    {
     "data": {
      "text/plain": [
       "[('서준영', '제주특별자치도 광명시 강남대거리 579 (성수김고동)'),\n",
       " ('장정순', '인천광역시 양천구 석촌호수551로 318-35'),\n",
       " ('김정숙', '충청북도 화천군 반포대05로 834'),\n",
       " ('이정숙', '대전광역시 마포구 백제고분5길 843 (성훈이권리)'),\n",
       " ('윤영식', '대전광역시 도봉구 오금59거리 919-61 (서윤박김리)'),\n",
       " ('장경희', '서울특별시 구로구 잠실3길 73-75 (춘자백읍)'),\n",
       " ('윤민서', '경상북도 가평군 논현거리 320'),\n",
       " ('한진우', '충청남도 태백시 석촌호수로 189'),\n",
       " ('문미영', '충청남도 춘천시 서초대로 10-67 (정호김면)'),\n",
       " ('김정웅', '서울특별시 관악구 반포대가 293-30')]"
      ]
     },
     "execution_count": 7,
     "metadata": {},
     "output_type": "execute_result"
    }
   ],
   "source": [
    "members = [(faker.name(), faker.address()) for _ in range(10)]\n",
    "members"
   ]
  },
  {
   "cell_type": "markdown",
   "id": "42c9f11c",
   "metadata": {},
   "source": []
  }
 ],
 "metadata": {
  "kernelspec": {
   "display_name": "basic",
   "language": "python",
   "name": "python3"
  },
  "language_info": {
   "codemirror_mode": {
    "name": "ipython",
    "version": 3
   },
   "file_extension": ".py",
   "mimetype": "text/x-python",
   "name": "python",
   "nbconvert_exporter": "python",
   "pygments_lexer": "ipython3",
   "version": "3.12.10"
  }
 },
 "nbformat": 4,
 "nbformat_minor": 5
}

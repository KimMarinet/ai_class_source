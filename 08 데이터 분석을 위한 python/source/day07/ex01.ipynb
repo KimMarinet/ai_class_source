{
 "cells": [
  {
   "cell_type": "code",
   "execution_count": 3,
   "id": "febdbc6c",
   "metadata": {},
   "outputs": [],
   "source": [
    "import time\n",
    "import threading as th"
   ]
  },
  {
   "cell_type": "code",
   "execution_count": 9,
   "id": "fa5b5d6d",
   "metadata": {},
   "outputs": [],
   "source": [
    "def some_work():\n",
    "    for i in range(1,11):\n",
    "        print(\"work1 %d\" %i)\n",
    "        time.sleep(1)\n",
    "\n",
    "def some_work2():\n",
    "    for i in range(1,11):\n",
    "        print(\"work2 %d\" %i)\n",
    "        time.sleep(1)"
   ]
  },
  {
   "cell_type": "code",
   "execution_count": null,
   "id": "50bc6700",
   "metadata": {},
   "outputs": [
    {
     "name": "stdout",
     "output_type": "stream",
     "text": [
      "work1 1\n",
      "work2 1\n",
      "work1 2\n",
      "work2 2\n",
      "work2 3\n",
      "work1 3\n",
      "work2 4work1 4\n",
      "\n",
      "work2 5work1 5\n",
      "\n",
      "work1 6work2 6\n",
      "\n",
      "work1 7work2 7\n",
      "\n",
      "work1 8work2 8\n",
      "\n",
      "work2 9work1 9\n",
      "\n",
      "work1 10\n",
      "work2 10\n",
      "main work 1\n",
      "main work 2\n",
      "main work 3\n",
      "main work 4\n",
      "main work 5\n",
      "main work 6\n",
      "main work 7\n",
      "main work 8\n",
      "main work 9\n",
      "main work 10\n",
      "end\n"
     ]
    }
   ],
   "source": [
    "th1 = th.Thread(target=some_work)\n",
    "th2 = th.Thread(target=some_work2)\n",
    "\n",
    "th1.start()\n",
    "th2.start()\n",
    "\n",
    "th1.join() # 현재 쓰레드의 작업을 th1이 종료될때까지 임시 중단, 종료되면 재개\n",
    "th2.join()\n",
    "\n",
    "for i in range(1, 11):\n",
    "    print(\"main work %d\" %i)\n",
    "    time.sleep(1)\n",
    "\n",
    "print(\"end\")"
   ]
  }
 ],
 "metadata": {
  "kernelspec": {
   "display_name": "basic",
   "language": "python",
   "name": "python3"
  },
  "language_info": {
   "codemirror_mode": {
    "name": "ipython",
    "version": 3
   },
   "file_extension": ".py",
   "mimetype": "text/x-python",
   "name": "python",
   "nbconvert_exporter": "python",
   "pygments_lexer": "ipython3",
   "version": "3.12.10"
  }
 },
 "nbformat": 4,
 "nbformat_minor": 5
}

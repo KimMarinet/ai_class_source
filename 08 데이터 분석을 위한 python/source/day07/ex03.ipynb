{
 "cells": [
  {
   "cell_type": "markdown",
   "id": "2edc45e7",
   "metadata": {},
   "source": [
    "#### 이터레이터"
   ]
  },
  {
   "cell_type": "code",
   "execution_count": 5,
   "id": "2bc620bb",
   "metadata": {},
   "outputs": [
    {
     "data": {
      "text/plain": [
       "list"
      ]
     },
     "execution_count": 5,
     "metadata": {},
     "output_type": "execute_result"
    }
   ],
   "source": [
    "fruits = ['Apple', 'Orange', 'Melon', 'Banana', 'Mango']\n",
    "type(fruits)"
   ]
  },
  {
   "cell_type": "code",
   "execution_count": 2,
   "id": "b53fa602",
   "metadata": {},
   "outputs": [
    {
     "data": {
      "text/plain": [
       "list_iterator"
      ]
     },
     "execution_count": 2,
     "metadata": {},
     "output_type": "execute_result"
    }
   ],
   "source": [
    "itr = iter(fruits)\n",
    "type(itr)"
   ]
  },
  {
   "cell_type": "code",
   "execution_count": 8,
   "id": "397f59e3",
   "metadata": {},
   "outputs": [
    {
     "ename": "StopIteration",
     "evalue": "",
     "output_type": "error",
     "traceback": [
      "\u001b[31m---------------------------------------------------------------------------\u001b[39m",
      "\u001b[31mStopIteration\u001b[39m                             Traceback (most recent call last)",
      "\u001b[36mCell\u001b[39m\u001b[36m \u001b[39m\u001b[32mIn[8]\u001b[39m\u001b[32m, line 1\u001b[39m\n\u001b[32m----> \u001b[39m\u001b[32m1\u001b[39m \u001b[38;5;28;43mnext\u001b[39;49m\u001b[43m(\u001b[49m\u001b[43mitr\u001b[49m\u001b[43m)\u001b[49m\n",
      "\u001b[31mStopIteration\u001b[39m: "
     ]
    }
   ],
   "source": [
    "next(itr)"
   ]
  },
  {
   "cell_type": "code",
   "execution_count": 2,
   "id": "d7bb9db5",
   "metadata": {},
   "outputs": [
    {
     "name": "stdout",
     "output_type": "stream",
     "text": [
      "Apple\n",
      "Orange\n",
      "Melon\n",
      "Banana\n",
      "Mango\n"
     ]
    }
   ],
   "source": [
    "iter = iter(fruits)\n",
    "while True:\n",
    "    try:\n",
    "        print(next(iter))\n",
    "    except StopIteration:\n",
    "        break"
   ]
  },
  {
   "cell_type": "code",
   "execution_count": 2,
   "id": "a8c521c2",
   "metadata": {},
   "outputs": [],
   "source": [
    "itr = iter(fruits)"
   ]
  },
  {
   "cell_type": "code",
   "execution_count": 3,
   "id": "f873a476",
   "metadata": {},
   "outputs": [
    {
     "name": "stdout",
     "output_type": "stream",
     "text": [
      "Apple\n",
      "Orange\n",
      "Melon\n",
      "Banana\n",
      "Mango\n"
     ]
    }
   ],
   "source": [
    "for item in itr:\n",
    "    print(item)"
   ]
  },
  {
   "cell_type": "code",
   "execution_count": 1,
   "id": "03b2e6dc",
   "metadata": {},
   "outputs": [],
   "source": [
    "class MyIterator:\n",
    "    def __init__(self, items):\n",
    "        self.position = 0\n",
    "        self.items = items\n",
    "\n",
    "    def __iter__(self):\n",
    "        return self\n",
    "    \n",
    "    def __next__(self):\n",
    "        print(\"call\")\n",
    "        if self.position >= len(self.items): # 다 읽어온 경우 StopIteration 예외 발생\n",
    "            raise StopIteration\n",
    "        \n",
    "        item = self.items[self.position] # 현재 위치 요소를 추출\n",
    "        self.position += 1 # 다음 커서 위치로 이동\n",
    "        return item"
   ]
  },
  {
   "cell_type": "code",
   "execution_count": 6,
   "id": "72a8fc74",
   "metadata": {},
   "outputs": [],
   "source": [
    "itr = MyIterator(fruits)"
   ]
  },
  {
   "cell_type": "code",
   "execution_count": 12,
   "id": "99535dea",
   "metadata": {},
   "outputs": [
    {
     "name": "stdout",
     "output_type": "stream",
     "text": [
      "call\n"
     ]
    },
    {
     "ename": "StopIteration",
     "evalue": "",
     "output_type": "error",
     "traceback": [
      "\u001b[31m---------------------------------------------------------------------------\u001b[39m",
      "\u001b[31mStopIteration\u001b[39m                             Traceback (most recent call last)",
      "\u001b[36mCell\u001b[39m\u001b[36m \u001b[39m\u001b[32mIn[12]\u001b[39m\u001b[32m, line 1\u001b[39m\n\u001b[32m----> \u001b[39m\u001b[32m1\u001b[39m \u001b[38;5;28;43mnext\u001b[39;49m\u001b[43m(\u001b[49m\u001b[43mitr\u001b[49m\u001b[43m)\u001b[49m\n",
      "\u001b[36mCell\u001b[39m\u001b[36m \u001b[39m\u001b[32mIn[1]\u001b[39m\u001b[32m, line 12\u001b[39m, in \u001b[36mMyIterator.__next__\u001b[39m\u001b[34m(self)\u001b[39m\n\u001b[32m     10\u001b[39m \u001b[38;5;28mprint\u001b[39m(\u001b[33m\"\u001b[39m\u001b[33mcall\u001b[39m\u001b[33m\"\u001b[39m)\n\u001b[32m     11\u001b[39m \u001b[38;5;28;01mif\u001b[39;00m \u001b[38;5;28mself\u001b[39m.position >= \u001b[38;5;28mlen\u001b[39m(\u001b[38;5;28mself\u001b[39m.items): \u001b[38;5;66;03m# 다 읽어온 경우 StopIteration 예외 발생\u001b[39;00m\n\u001b[32m---> \u001b[39m\u001b[32m12\u001b[39m     \u001b[38;5;28;01mraise\u001b[39;00m \u001b[38;5;167;01mStopIteration\u001b[39;00m\n\u001b[32m     14\u001b[39m item = \u001b[38;5;28mself\u001b[39m.items[\u001b[38;5;28mself\u001b[39m.position] \u001b[38;5;66;03m# 현재 위치 요소를 추출\u001b[39;00m\n\u001b[32m     15\u001b[39m \u001b[38;5;28mself\u001b[39m.position += \u001b[32m1\u001b[39m \u001b[38;5;66;03m# 다음 커서 위치로 이동\u001b[39;00m\n",
      "\u001b[31mStopIteration\u001b[39m: "
     ]
    }
   ],
   "source": [
    "next(itr)"
   ]
  },
  {
   "cell_type": "markdown",
   "id": "06e9df5d",
   "metadata": {},
   "source": [
    "#### 제너레이터"
   ]
  },
  {
   "cell_type": "code",
   "execution_count": 25,
   "id": "82288e50",
   "metadata": {},
   "outputs": [],
   "source": [
    "def mygen():\n",
    "    yield 'A'\n",
    "    yield 'B'\n",
    "    yield 'C'"
   ]
  },
  {
   "cell_type": "code",
   "execution_count": 26,
   "id": "2fa58294",
   "metadata": {},
   "outputs": [
    {
     "data": {
      "text/plain": [
       "generator"
      ]
     },
     "execution_count": 26,
     "metadata": {},
     "output_type": "execute_result"
    }
   ],
   "source": [
    "gen = mygen()\n",
    "type(gen)"
   ]
  },
  {
   "cell_type": "code",
   "execution_count": 27,
   "id": "cd2c20c9",
   "metadata": {},
   "outputs": [
    {
     "data": {
      "text/plain": [
       "'A'"
      ]
     },
     "execution_count": 27,
     "metadata": {},
     "output_type": "execute_result"
    }
   ],
   "source": [
    "next(gen)"
   ]
  },
  {
   "cell_type": "code",
   "execution_count": 28,
   "id": "ef14bd7f",
   "metadata": {},
   "outputs": [],
   "source": [
    "gen = (i*i for i in range(100))"
   ]
  },
  {
   "cell_type": "code",
   "execution_count": 29,
   "id": "5742041c",
   "metadata": {},
   "outputs": [
    {
     "data": {
      "text/plain": [
       "generator"
      ]
     },
     "execution_count": 29,
     "metadata": {},
     "output_type": "execute_result"
    }
   ],
   "source": [
    "type(gen)"
   ]
  },
  {
   "cell_type": "markdown",
   "id": "2c26d203",
   "metadata": {},
   "source": [
    "#### 타입 어노테이션"
   ]
  },
  {
   "cell_type": "code",
   "execution_count": 30,
   "id": "1c0878b9",
   "metadata": {},
   "outputs": [],
   "source": [
    "def add(num1, num2):\n",
    "    return num1 + num2"
   ]
  },
  {
   "cell_type": "code",
   "execution_count": 31,
   "id": "c0373467",
   "metadata": {},
   "outputs": [
    {
     "data": {
      "text/plain": [
       "20.122999999999998"
      ]
     },
     "execution_count": 31,
     "metadata": {},
     "output_type": "execute_result"
    }
   ],
   "source": [
    "add(10, 10.123)"
   ]
  }
 ],
 "metadata": {
  "kernelspec": {
   "display_name": "basic",
   "language": "python",
   "name": "python3"
  },
  "language_info": {
   "codemirror_mode": {
    "name": "ipython",
    "version": 3
   },
   "file_extension": ".py",
   "mimetype": "text/x-python",
   "name": "python",
   "nbconvert_exporter": "python",
   "pygments_lexer": "ipython3",
   "version": "3.12.10"
  }
 },
 "nbformat": 4,
 "nbformat_minor": 5
}

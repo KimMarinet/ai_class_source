{
 "cells": [
  {
   "cell_type": "code",
   "execution_count": 2,
   "id": "f6c0705d",
   "metadata": {},
   "outputs": [],
   "source": [
    "str = \"\"\" 이이름 010-1000-1000\n",
    "김이름 010-2000-2000\n",
    "Rachel 010-3000-3000\"\"\""
   ]
  },
  {
   "cell_type": "code",
   "execution_count": 1,
   "id": "fa22adc7",
   "metadata": {},
   "outputs": [],
   "source": [
    "import re"
   ]
  },
  {
   "cell_type": "code",
   "execution_count": null,
   "id": "1f4c46d0",
   "metadata": {},
   "outputs": [],
   "source": [
    "p = re.compile(r\"[a-zㄱ-ㅎ가-힣]+\\s+010-\\D*\\d{4}\\D*\\d{4}$\", re.M | re.I)\n",
    "p = re.compile(r\"([a-zㄱ-ㅎ가-힣]+)\\s+(010-\\D*\\d{4}\\D*\\d{4}$)\", re.M | re.I)"
   ]
  },
  {
   "cell_type": "code",
   "execution_count": 5,
   "id": "ff026e10",
   "metadata": {},
   "outputs": [
    {
     "data": {
      "text/plain": [
       "['이이름 010-1000-1000', '김이름 010-2000-2000', 'Rachel 010-3000-3000']"
      ]
     },
     "execution_count": 5,
     "metadata": {},
     "output_type": "execute_result"
    }
   ],
   "source": [
    "items = p.findall(str)\n",
    "items"
   ]
  }
 ],
 "metadata": {
  "kernelspec": {
   "display_name": "basic",
   "language": "python",
   "name": "python3"
  },
  "language_info": {
   "codemirror_mode": {
    "name": "ipython",
    "version": 3
   },
   "file_extension": ".py",
   "mimetype": "text/x-python",
   "name": "python",
   "nbconvert_exporter": "python",
   "pygments_lexer": "ipython3",
   "version": "3.12.10"
  }
 },
 "nbformat": 4,
 "nbformat_minor": 5
}

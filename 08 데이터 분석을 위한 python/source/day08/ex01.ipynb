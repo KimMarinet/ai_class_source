{
 "cells": [
  {
   "cell_type": "code",
   "execution_count": 1,
   "id": "f55fc2c2",
   "metadata": {},
   "outputs": [],
   "source": [
    "import re"
   ]
  },
  {
   "cell_type": "code",
   "execution_count": 2,
   "id": "257c87d3",
   "metadata": {},
   "outputs": [
    {
     "ename": "AttributeError",
     "evalue": "module 're' has no attribute 'complie'",
     "output_type": "error",
     "traceback": [
      "\u001b[31m---------------------------------------------------------------------------\u001b[39m",
      "\u001b[31mAttributeError\u001b[39m                            Traceback (most recent call last)",
      "\u001b[36mCell\u001b[39m\u001b[36m \u001b[39m\u001b[32mIn[2]\u001b[39m\u001b[32m, line 1\u001b[39m\n\u001b[32m----> \u001b[39m\u001b[32m1\u001b[39m p = \u001b[43mre\u001b[49m\u001b[43m.\u001b[49m\u001b[43mcomplie\u001b[49m(\u001b[33mr\u001b[39m\u001b[33m\"\u001b[39m\u001b[33m[a-zㄱ-ㅎ가-힣]+\u001b[39m\u001b[33m\\\u001b[39m\u001b[33ms+010-\u001b[39m\u001b[33m\\\u001b[39m\u001b[33mD*\u001b[39m\u001b[33m\\\u001b[39m\u001b[33md\u001b[39m\u001b[38;5;132;01m{4}\u001b[39;00m\u001b[33m\\\u001b[39m\u001b[33mD*\u001b[39m\u001b[33m\\\u001b[39m\u001b[33md\u001b[39m\u001b[38;5;132;01m{4}\u001b[39;00m\u001b[33m$\u001b[39m\u001b[33m\"\u001b[39m, re.M | re.I)\n",
      "\u001b[31mAttributeError\u001b[39m: module 're' has no attribute 'complie'"
     ]
    }
   ],
   "source": [
    "p = re.complie(r\"[a-zㄱ-ㅎ가-힣]+\\s+010-\\D*\\d{4}\\D*\\d{4}$\", re.M | re.I)"
   ]
  }
 ],
 "metadata": {
  "kernelspec": {
   "display_name": "basic",
   "language": "python",
   "name": "python3"
  },
  "language_info": {
   "codemirror_mode": {
    "name": "ipython",
    "version": 3
   },
   "file_extension": ".py",
   "mimetype": "text/x-python",
   "name": "python",
   "nbconvert_exporter": "python",
   "pygments_lexer": "ipython3",
   "version": "3.12.10"
  }
 },
 "nbformat": 4,
 "nbformat_minor": 5
}

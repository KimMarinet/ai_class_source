{
 "cells": [
  {
   "cell_type": "code",
   "execution_count": 1,
   "id": "262d5825",
   "metadata": {},
   "outputs": [],
   "source": [
    "import requests\n",
    "response = requests.get(\"https://finance.naver.com/marketindex/exchangeList.naver\")"
   ]
  },
  {
   "cell_type": "code",
   "execution_count": 2,
   "id": "bfc8512c",
   "metadata": {},
   "outputs": [
    {
     "data": {
      "text/plain": [
       "'</a></td>\\n\\t\\t\\t\\t<td class=\"sale\">1,373.60</td>\\n\\t\\t\\t\\t<td>\\n\\t\\t\\t\\t\\t\\n\\t\\t\\t\\t\\t\\t\\n\\t\\t\\t\\t\\t\\t1,397.63\\n\\t\\t\\t\\t\\t\\n\\t\\t\\t\\t</td>\\n\\t\\t\\t\\t<td>\\n\\t\\t\\t\\t\\t\\n\\t\\t\\t\\t\\t\\t\\n\\t\\t\\t\\t\\t\\t1,349.57\\n\\t\\t\\t\\t\\t\\n\\t\\t\\t\\t</td>\\n\\t\\t\\t\\t<td>\\n\\t\\t\\t\\t\\t\\n\\t\\t\\t\\t\\t\\t\\n\\t\\t\\t\\t\\t\\t1,387.00\\n\\t\\t\\t\\t\\t\\n\\t\\t\\t\\t</td>\\n\\t\\t\\t\\t<td>\\n\\t\\t\\t\\t\\t\\n\\t\\t\\t\\t\\t\\t\\n\\t\\t\\t\\t\\t\\t1,360.20\\n\\t\\t\\t\\t\\t\\n\\t\\t\\t\\t</td>\\n\\t\\t\\t\\t<td>1.000</td>\\n\\t\\t\\t\\t</tr>\\n\\t\\t\\t\\t\\n\\t\\t\\t\\t<tr>\\n\\t\\t\\t\\t<td class=\"tit\"><a href=\"/marketindex/exchangeDetail.naver?marketindexCd=FX_EURKRW\" target=\"_parent\" onclick=\"parent.clickcr(this, \\'exl.exlist\\', \\'FX_EURKRW\\', \\'2\\', event);\">'"
      ]
     },
     "execution_count": 2,
     "metadata": {},
     "output_type": "execute_result"
    }
   ],
   "source": [
    "html = response.text.split('미국 USD')[1].strip()\n",
    "data = html.split('유럽연합 EUR')[0].strip()\n",
    "data"
   ]
  },
  {
   "cell_type": "code",
   "execution_count": 3,
   "id": "5165141b",
   "metadata": {},
   "outputs": [],
   "source": [
    "import re\n",
    "p = re.compile(r\"<td.*?>(.*?)</td>\", re.M | re.S)"
   ]
  },
  {
   "cell_type": "code",
   "execution_count": 4,
   "id": "93797663",
   "metadata": {},
   "outputs": [
    {
     "data": {
      "text/plain": [
       "[1373.6, 1397.63, 1349.57]"
      ]
     },
     "execution_count": 4,
     "metadata": {},
     "output_type": "execute_result"
    }
   ],
   "source": [
    "items = p.findall(data)\n",
    "\n",
    "exchange_rates = [float(rate.strip().replace(\",\", \"\")) for i, rate in enumerate(items) if i < 3]\n",
    "exchange_rates"
   ]
  },
  {
   "cell_type": "code",
   "execution_count": null,
   "id": "2b39ec6a",
   "metadata": {},
   "outputs": [],
   "source": []
  }
 ],
 "metadata": {
  "kernelspec": {
   "display_name": "basic",
   "language": "python",
   "name": "python3"
  },
  "language_info": {
   "codemirror_mode": {
    "name": "ipython",
    "version": 3
   },
   "file_extension": ".py",
   "mimetype": "text/x-python",
   "name": "python",
   "nbconvert_exporter": "python",
   "pygments_lexer": "ipython3",
   "version": "3.12.10"
  }
 },
 "nbformat": 4,
 "nbformat_minor": 5
}

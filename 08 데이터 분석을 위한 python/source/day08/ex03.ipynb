{
 "cells": [
  {
   "cell_type": "code",
   "execution_count": 5,
   "id": "dcb731a8",
   "metadata": {},
   "outputs": [],
   "source": [
    "str = \"\"\"https://www.naver.com\n",
    "https://www.daum.net\n",
    "http://www.webnmobile.net\"\"\""
   ]
  },
  {
   "cell_type": "code",
   "execution_count": 2,
   "id": "b6094ba9",
   "metadata": {},
   "outputs": [],
   "source": [
    "import re"
   ]
  },
  {
   "cell_type": "code",
   "execution_count": null,
   "id": "df7c2446",
   "metadata": {},
   "outputs": [],
   "source": [
    "p = re.compile(r\"http[s]?(?=://)\", re.M)"
   ]
  },
  {
   "cell_type": "code",
   "execution_count": 6,
   "id": "2d8de183",
   "metadata": {},
   "outputs": [
    {
     "data": {
      "text/plain": [
       "['https', 'https', 'http']"
      ]
     },
     "execution_count": 6,
     "metadata": {},
     "output_type": "execute_result"
    }
   ],
   "source": [
    "items = p.findall(str)\n",
    "items"
   ]
  },
  {
   "cell_type": "code",
   "execution_count": 13,
   "id": "dd44c057",
   "metadata": {},
   "outputs": [],
   "source": [
    "p = re.compile(r\"http[s]?://(www\\.)?([^.]+(?=\\.net$))\", re.M)"
   ]
  },
  {
   "cell_type": "code",
   "execution_count": 14,
   "id": "c80ece0f",
   "metadata": {},
   "outputs": [
    {
     "name": "stdout",
     "output_type": "stream",
     "text": [
      "daum\n",
      "webnmobile\n"
     ]
    }
   ],
   "source": [
    "for item in p.finditer(str):\n",
    "    print(item.group(2))"
   ]
  }
 ],
 "metadata": {
  "kernelspec": {
   "display_name": "basic",
   "language": "python",
   "name": "python3"
  },
  "language_info": {
   "codemirror_mode": {
    "name": "ipython",
    "version": 3
   },
   "file_extension": ".py",
   "mimetype": "text/x-python",
   "name": "python",
   "nbconvert_exporter": "python",
   "pygments_lexer": "ipython3",
   "version": "3.12.10"
  }
 },
 "nbformat": 4,
 "nbformat_minor": 5
}

{
 "cells": [
  {
   "cell_type": "code",
   "execution_count": 1,
   "id": "ef0fca74",
   "metadata": {},
   "outputs": [],
   "source": [
    "# one-hot Encoding : 다중 분류에서 0, 1로 바꾸는 기법\n",
    "import keras\n",
    "import numpy as np"
   ]
  },
  {
   "cell_type": "code",
   "execution_count": 6,
   "id": "eb5a9500",
   "metadata": {},
   "outputs": [],
   "source": [
    "target = np.array([1, 2, 0, 3, 4])\n",
    "target_encoded = keras.utils.to_categorical(target) #One-Hot Encoding 변환"
   ]
  },
  {
   "cell_type": "code",
   "execution_count": 7,
   "id": "0a5d813f",
   "metadata": {},
   "outputs": [
    {
     "data": {
      "text/plain": [
       "array([[0., 1., 0., 0., 0.],\n",
       "       [0., 0., 1., 0., 0.],\n",
       "       [1., 0., 0., 0., 0.],\n",
       "       [0., 0., 0., 1., 0.],\n",
       "       [0., 0., 0., 0., 1.]])"
      ]
     },
     "execution_count": 7,
     "metadata": {},
     "output_type": "execute_result"
    }
   ],
   "source": [
    "target_encoded # 전체 target 값은 0, 1, 2 \n",
    "# => 첫번째 target 값은 1 => [0, 1, 0]으로 표기\n",
    "# => 두번째 target 값은 2 => [0, 0, 1]으로 표기\n",
    "# target의 값을 0, 1 표기로 바꾸어 줌"
   ]
  },
  {
   "cell_type": "code",
   "execution_count": null,
   "id": "53e22398",
   "metadata": {},
   "outputs": [
    {
     "data": {
      "text/plain": [
       "array([[0., 1., 0.],\n",
       "       [0., 0., 1.],\n",
       "       [1., 0., 0.]])"
      ]
     },
     "execution_count": 5,
     "metadata": {},
     "output_type": "execute_result"
    }
   ],
   "source": [
    "# 학습 하기 fit(), batch_size: 32 / 미니배치 경사 하강법, epochs : 반복 학습 횟수\n",
    "# verbose : 0 - 상세 로그 출력 X , 1 - 상세 로그 출력, validation_data : 검증 세트 데이터\n"
   ]
  },
  {
   "cell_type": "code",
   "execution_count": null,
   "id": "23cea1e9",
   "metadata": {},
   "outputs": [],
   "source": []
  }
 ],
 "metadata": {
  "kernelspec": {
   "display_name": ".venv",
   "language": "python",
   "name": "python3"
  },
  "language_info": {
   "codemirror_mode": {
    "name": "ipython",
    "version": 3
   },
   "file_extension": ".py",
   "mimetype": "text/x-python",
   "name": "python",
   "nbconvert_exporter": "python",
   "pygments_lexer": "ipython3",
   "version": "3.12.10"
  }
 },
 "nbformat": 4,
 "nbformat_minor": 5
}

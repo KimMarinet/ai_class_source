{
 "cells": [
  {
   "cell_type": "code",
   "execution_count": 1,
   "id": "9cff577c",
   "metadata": {},
   "outputs": [],
   "source": [
    "from scipy.stats import randint, uniform"
   ]
  },
  {
   "cell_type": "code",
   "execution_count": 2,
   "id": "fba64348",
   "metadata": {},
   "outputs": [
    {
     "data": {
      "text/plain": [
       "array([8, 4, 1, 3, 9, 1, 1, 1, 7, 1, 7])"
      ]
     },
     "execution_count": 2,
     "metadata": {},
     "output_type": "execute_result"
    }
   ],
   "source": [
    "ri = randint(0,10) # 0~9 무작위 수\n",
    "ri.rvs(11) # 0~9사이 숫자 중 무작위 수 11개 생성"
   ]
  },
  {
   "cell_type": "code",
   "execution_count": 3,
   "id": "e209d8a9",
   "metadata": {},
   "outputs": [
    {
     "data": {
      "text/plain": [
       "(array([0, 1, 2, 3, 4, 5, 6, 7, 8, 9]),\n",
       " array([ 99,  98,  97, 106,  98,  97, 103,  97, 107,  98]))"
      ]
     },
     "execution_count": 3,
     "metadata": {},
     "output_type": "execute_result"
    }
   ],
   "source": [
    "import numpy as np\n",
    "\n",
    "np.unique(ri.rvs(1000), return_counts=True) # 중복된 총 개수를 함께 반환"
   ]
  },
  {
   "cell_type": "code",
   "execution_count": 4,
   "id": "7a15a38c",
   "metadata": {},
   "outputs": [
    {
     "data": {
      "text/plain": [
       "array([0.3413809 , 0.5579921 , 0.8073252 , 0.59970841, 0.1066027 ])"
      ]
     },
     "execution_count": 4,
     "metadata": {},
     "output_type": "execute_result"
    }
   ],
   "source": [
    "ui = uniform(0,1) # 0~1 사이의 무작위 실수\n",
    "ui.rvs(5) # 0~1 사이 무작위 실수를 5개 생성"
   ]
  },
  {
   "cell_type": "code",
   "execution_count": null,
   "id": "8ca02341",
   "metadata": {},
   "outputs": [],
   "source": []
  }
 ],
 "metadata": {
  "kernelspec": {
   "display_name": ".venv",
   "language": "python",
   "name": "python3"
  },
  "language_info": {
   "codemirror_mode": {
    "name": "ipython",
    "version": 3
   },
   "file_extension": ".py",
   "mimetype": "text/x-python",
   "name": "python",
   "nbconvert_exporter": "python",
   "pygments_lexer": "ipython3",
   "version": "3.12.10"
  }
 },
 "nbformat": 4,
 "nbformat_minor": 5
}

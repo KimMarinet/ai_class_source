{
 "cells": [
  {
   "cell_type": "code",
   "execution_count": 1,
   "id": "8ace80c1",
   "metadata": {},
   "outputs": [
    {
     "name": "stdout",
     "output_type": "stream",
     "text": [
      "Downloading data from https://storage.googleapis.com/keras-applications/efficientnetb0_notop.h5\n",
      "\u001b[1m16705208/16705208\u001b[0m \u001b[32m━━━━━━━━━━━━━━━━━━━━\u001b[0m\u001b[37m\u001b[0m \u001b[1m1s\u001b[0m 0us/step\n"
     ]
    }
   ],
   "source": [
    "import keras\n",
    "\n",
    "base_model = keras.applications.EfficientNetB0(include_top=False)"
   ]
  },
  {
   "cell_type": "code",
   "execution_count": 2,
   "id": "3f4ad11a",
   "metadata": {},
   "outputs": [],
   "source": [
    "from keras.utils import image_dataset_from_directory"
   ]
  },
  {
   "cell_type": "code",
   "execution_count": 9,
   "id": "4f7a4d05",
   "metadata": {},
   "outputs": [
    {
     "name": "stdout",
     "output_type": "stream",
     "text": [
      "Found 2148 files belonging to 2 classes.\n",
      "Using 1719 files for training.\n",
      "Using 429 files for validation.\n"
     ]
    },
    {
     "name": "stderr",
     "output_type": "stream",
     "text": [
      "<>:1: SyntaxWarning: invalid escape sequence '\\i'\n",
      "<>:1: SyntaxWarning: invalid escape sequence '\\i'\n",
      "C:\\Users\\admin\\AppData\\Local\\Temp\\ipykernel_11232\\3880973718.py:1: SyntaxWarning: invalid escape sequence '\\i'\n",
      "  train_ds, val_ds = image_dataset_from_directory(\"C:\\images\", image_size=(224, 224), validation_split=0.2, subset='both', seed=42)\n"
     ]
    }
   ],
   "source": [
    "train_ds, val_ds = image_dataset_from_directory(\"C:\\images\", image_size=(224, 224), validation_split=0.2, subset='both', seed=42)"
   ]
  },
  {
   "cell_type": "code",
   "execution_count": 10,
   "id": "b1e1809c",
   "metadata": {},
   "outputs": [],
   "source": [
    "base_model.trainable=False # 기존 학습된 커널의 가중치를 변경하지 않음"
   ]
  },
  {
   "cell_type": "code",
   "execution_count": 11,
   "id": "e55581f8",
   "metadata": {},
   "outputs": [],
   "source": [
    "inputs = keras.layers.Input(shape=(224, 224, 3))\n",
    "x = base_model(inputs)\n",
    "x = keras.layers.GlobalAveragePooling2D()(x)\n",
    "x = keras.layers.Dense(128, activation='relu')(x)\n",
    "outputs = keras.layers.Dense(1, activation='sigmoid')(x)\n",
    "\n",
    "model = keras.Model(inputs, outputs)"
   ]
  },
  {
   "cell_type": "code",
   "execution_count": 12,
   "id": "b6899237",
   "metadata": {},
   "outputs": [
    {
     "name": "stdout",
     "output_type": "stream",
     "text": [
      "Epoch 1/20\n",
      "\u001b[1m54/54\u001b[0m \u001b[32m━━━━━━━━━━━━━━━━━━━━\u001b[0m\u001b[37m\u001b[0m \u001b[1m69s\u001b[0m 1s/step - accuracy: 0.8832 - loss: 0.3167 - val_accuracy: 0.9720 - val_loss: 0.0940\n",
      "Epoch 2/20\n",
      "\u001b[1m54/54\u001b[0m \u001b[32m━━━━━━━━━━━━━━━━━━━━\u001b[0m\u001b[37m\u001b[0m \u001b[1m57s\u001b[0m 1s/step - accuracy: 0.9703 - loss: 0.0920 - val_accuracy: 0.9744 - val_loss: 0.0783\n",
      "Epoch 3/20\n",
      "\u001b[1m54/54\u001b[0m \u001b[32m━━━━━━━━━━━━━━━━━━━━\u001b[0m\u001b[37m\u001b[0m \u001b[1m53s\u001b[0m 992ms/step - accuracy: 0.9862 - loss: 0.0602 - val_accuracy: 0.9744 - val_loss: 0.0623\n",
      "Epoch 4/20\n",
      "\u001b[1m54/54\u001b[0m \u001b[32m━━━━━━━━━━━━━━━━━━━━\u001b[0m\u001b[37m\u001b[0m \u001b[1m55s\u001b[0m 1s/step - accuracy: 0.9826 - loss: 0.0547 - val_accuracy: 0.9814 - val_loss: 0.0537\n",
      "Epoch 5/20\n",
      "\u001b[1m54/54\u001b[0m \u001b[32m━━━━━━━━━━━━━━━━━━━━\u001b[0m\u001b[37m\u001b[0m \u001b[1m57s\u001b[0m 1s/step - accuracy: 0.9912 - loss: 0.0389 - val_accuracy: 0.9814 - val_loss: 0.0507\n",
      "Epoch 6/20\n",
      "\u001b[1m54/54\u001b[0m \u001b[32m━━━━━━━━━━━━━━━━━━━━\u001b[0m\u001b[37m\u001b[0m \u001b[1m54s\u001b[0m 1s/step - accuracy: 0.9915 - loss: 0.0265 - val_accuracy: 0.9814 - val_loss: 0.0563\n",
      "Epoch 7/20\n",
      "\u001b[1m54/54\u001b[0m \u001b[32m━━━━━━━━━━━━━━━━━━━━\u001b[0m\u001b[37m\u001b[0m \u001b[1m55s\u001b[0m 1s/step - accuracy: 0.9801 - loss: 0.0441 - val_accuracy: 0.9790 - val_loss: 0.0527\n",
      "Epoch 8/20\n",
      "\u001b[1m54/54\u001b[0m \u001b[32m━━━━━━━━━━━━━━━━━━━━\u001b[0m\u001b[37m\u001b[0m \u001b[1m53s\u001b[0m 986ms/step - accuracy: 0.9944 - loss: 0.0209 - val_accuracy: 0.9790 - val_loss: 0.0554\n",
      "Epoch 9/20\n",
      "\u001b[1m54/54\u001b[0m \u001b[32m━━━━━━━━━━━━━━━━━━━━\u001b[0m\u001b[37m\u001b[0m \u001b[1m59s\u001b[0m 1s/step - accuracy: 0.9944 - loss: 0.0204 - val_accuracy: 0.9837 - val_loss: 0.0413\n",
      "Epoch 10/20\n",
      "\u001b[1m54/54\u001b[0m \u001b[32m━━━━━━━━━━━━━━━━━━━━\u001b[0m\u001b[37m\u001b[0m \u001b[1m59s\u001b[0m 1s/step - accuracy: 0.9968 - loss: 0.0158 - val_accuracy: 0.9860 - val_loss: 0.0428\n",
      "Epoch 11/20\n",
      "\u001b[1m54/54\u001b[0m \u001b[32m━━━━━━━━━━━━━━━━━━━━\u001b[0m\u001b[37m\u001b[0m \u001b[1m58s\u001b[0m 1s/step - accuracy: 0.9983 - loss: 0.0152 - val_accuracy: 0.9814 - val_loss: 0.0604\n",
      "Epoch 12/20\n",
      "\u001b[1m54/54\u001b[0m \u001b[32m━━━━━━━━━━━━━━━━━━━━\u001b[0m\u001b[37m\u001b[0m \u001b[1m59s\u001b[0m 1s/step - accuracy: 0.9946 - loss: 0.0190 - val_accuracy: 0.9720 - val_loss: 0.0692\n",
      "Epoch 13/20\n",
      "\u001b[1m54/54\u001b[0m \u001b[32m━━━━━━━━━━━━━━━━━━━━\u001b[0m\u001b[37m\u001b[0m \u001b[1m58s\u001b[0m 1s/step - accuracy: 0.9930 - loss: 0.0220 - val_accuracy: 0.9790 - val_loss: 0.0562\n",
      "Epoch 14/20\n",
      "\u001b[1m54/54\u001b[0m \u001b[32m━━━━━━━━━━━━━━━━━━━━\u001b[0m\u001b[37m\u001b[0m \u001b[1m58s\u001b[0m 1s/step - accuracy: 0.9892 - loss: 0.0311 - val_accuracy: 0.9837 - val_loss: 0.0457\n",
      "Epoch 1/20\n",
      "\u001b[1m54/54\u001b[0m \u001b[32m━━━━━━━━━━━━━━━━━━━━\u001b[0m\u001b[37m\u001b[0m \u001b[1m60s\u001b[0m 1s/step - accuracy: 0.9933 - loss: 0.0171 - val_accuracy: 0.9814 - val_loss: 0.0457\n",
      "Epoch 2/20\n",
      "\u001b[1m54/54\u001b[0m \u001b[32m━━━━━━━━━━━━━━━━━━━━\u001b[0m\u001b[37m\u001b[0m \u001b[1m56s\u001b[0m 1s/step - accuracy: 0.9930 - loss: 0.0187 - val_accuracy: 0.9790 - val_loss: 0.0619\n",
      "Epoch 3/20\n",
      "\u001b[1m54/54\u001b[0m \u001b[32m━━━━━━━━━━━━━━━━━━━━\u001b[0m\u001b[37m\u001b[0m \u001b[1m60s\u001b[0m 1s/step - accuracy: 0.9970 - loss: 0.0145 - val_accuracy: 0.9790 - val_loss: 0.0636\n",
      "Epoch 4/20\n",
      "\u001b[1m54/54\u001b[0m \u001b[32m━━━━━━━━━━━━━━━━━━━━\u001b[0m\u001b[37m\u001b[0m \u001b[1m59s\u001b[0m 1s/step - accuracy: 0.9945 - loss: 0.0220 - val_accuracy: 0.9790 - val_loss: 0.0496\n",
      "Epoch 5/20\n",
      "\u001b[1m54/54\u001b[0m \u001b[32m━━━━━━━━━━━━━━━━━━━━\u001b[0m\u001b[37m\u001b[0m \u001b[1m56s\u001b[0m 1s/step - accuracy: 0.9958 - loss: 0.0192 - val_accuracy: 0.9814 - val_loss: 0.0504\n",
      "Epoch 6/20\n",
      "\u001b[1m54/54\u001b[0m \u001b[32m━━━━━━━━━━━━━━━━━━━━\u001b[0m\u001b[37m\u001b[0m \u001b[1m44s\u001b[0m 822ms/step - accuracy: 0.9969 - loss: 0.0102 - val_accuracy: 0.9814 - val_loss: 0.0409\n",
      "Epoch 7/20\n",
      "\u001b[1m54/54\u001b[0m \u001b[32m━━━━━━━━━━━━━━━━━━━━\u001b[0m\u001b[37m\u001b[0m \u001b[1m41s\u001b[0m 762ms/step - accuracy: 0.9967 - loss: 0.0122 - val_accuracy: 0.9814 - val_loss: 0.0606\n",
      "Epoch 8/20\n",
      "\u001b[1m54/54\u001b[0m \u001b[32m━━━━━━━━━━━━━━━━━━━━\u001b[0m\u001b[37m\u001b[0m \u001b[1m39s\u001b[0m 726ms/step - accuracy: 0.9955 - loss: 0.0130 - val_accuracy: 0.9883 - val_loss: 0.0401\n",
      "Epoch 9/20\n",
      "\u001b[1m54/54\u001b[0m \u001b[32m━━━━━━━━━━━━━━━━━━━━\u001b[0m\u001b[37m\u001b[0m \u001b[1m35s\u001b[0m 650ms/step - accuracy: 0.9953 - loss: 0.0178 - val_accuracy: 0.9744 - val_loss: 0.0531\n",
      "Epoch 10/20\n",
      "\u001b[1m54/54\u001b[0m \u001b[32m━━━━━━━━━━━━━━━━━━━━\u001b[0m\u001b[37m\u001b[0m \u001b[1m35s\u001b[0m 645ms/step - accuracy: 0.9922 - loss: 0.0152 - val_accuracy: 0.9767 - val_loss: 0.0579\n",
      "Epoch 11/20\n",
      "\u001b[1m54/54\u001b[0m \u001b[32m━━━━━━━━━━━━━━━━━━━━\u001b[0m\u001b[37m\u001b[0m \u001b[1m38s\u001b[0m 705ms/step - accuracy: 0.9954 - loss: 0.0105 - val_accuracy: 0.9837 - val_loss: 0.0434\n",
      "Epoch 12/20\n",
      "\u001b[1m54/54\u001b[0m \u001b[32m━━━━━━━━━━━━━━━━━━━━\u001b[0m\u001b[37m\u001b[0m \u001b[1m38s\u001b[0m 700ms/step - accuracy: 0.9970 - loss: 0.0072 - val_accuracy: 0.9860 - val_loss: 0.0437\n",
      "Epoch 13/20\n",
      "\u001b[1m54/54\u001b[0m \u001b[32m━━━━━━━━━━━━━━━━━━━━\u001b[0m\u001b[37m\u001b[0m \u001b[1m40s\u001b[0m 742ms/step - accuracy: 0.9971 - loss: 0.0098 - val_accuracy: 0.9860 - val_loss: 0.0475\n",
      "Epoch 14/20\n",
      "\u001b[1m54/54\u001b[0m \u001b[32m━━━━━━━━━━━━━━━━━━━━\u001b[0m\u001b[37m\u001b[0m \u001b[1m37s\u001b[0m 676ms/step - accuracy: 0.9971 - loss: 0.0087 - val_accuracy: 0.9790 - val_loss: 0.0495\n",
      "Epoch 15/20\n",
      "\u001b[1m54/54\u001b[0m \u001b[32m━━━━━━━━━━━━━━━━━━━━\u001b[0m\u001b[37m\u001b[0m \u001b[1m41s\u001b[0m 758ms/step - accuracy: 0.9958 - loss: 0.0129 - val_accuracy: 0.9814 - val_loss: 0.0747\n",
      "Epoch 16/20\n",
      "\u001b[1m54/54\u001b[0m \u001b[32m━━━━━━━━━━━━━━━━━━━━\u001b[0m\u001b[37m\u001b[0m \u001b[1m40s\u001b[0m 749ms/step - accuracy: 0.9933 - loss: 0.0175 - val_accuracy: 0.9883 - val_loss: 0.0417\n",
      "Epoch 17/20\n",
      "\u001b[1m54/54\u001b[0m \u001b[32m━━━━━━━━━━━━━━━━━━━━\u001b[0m\u001b[37m\u001b[0m \u001b[1m38s\u001b[0m 699ms/step - accuracy: 0.9970 - loss: 0.0106 - val_accuracy: 0.9860 - val_loss: 0.0499\n",
      "Epoch 18/20\n",
      "\u001b[1m54/54\u001b[0m \u001b[32m━━━━━━━━━━━━━━━━━━━━\u001b[0m\u001b[37m\u001b[0m \u001b[1m36s\u001b[0m 670ms/step - accuracy: 0.9965 - loss: 0.0107 - val_accuracy: 0.9837 - val_loss: 0.0935\n",
      "Epoch 19/20\n",
      "\u001b[1m54/54\u001b[0m \u001b[32m━━━━━━━━━━━━━━━━━━━━\u001b[0m\u001b[37m\u001b[0m \u001b[1m35s\u001b[0m 656ms/step - accuracy: 0.9906 - loss: 0.0323 - val_accuracy: 0.9837 - val_loss: 0.0680\n",
      "Epoch 20/20\n",
      "\u001b[1m54/54\u001b[0m \u001b[32m━━━━━━━━━━━━━━━━━━━━\u001b[0m\u001b[37m\u001b[0m \u001b[1m34s\u001b[0m 637ms/step - accuracy: 0.9883 - loss: 0.0215 - val_accuracy: 0.9814 - val_loss: 0.0485\n"
     ]
    },
    {
     "data": {
      "text/plain": [
       "<keras.src.callbacks.history.History at 0x1fb18aad3d0>"
      ]
     },
     "execution_count": 12,
     "metadata": {},
     "output_type": "execute_result"
    }
   ],
   "source": [
    "adam = keras.optimizers.Adam(learning_rate=0.001)\n",
    "model.compile(optimizer=adam, loss='binary_crossentropy', metrics=['accuracy'])\n",
    "\n",
    "checkpoint_cb = keras.callbacks.ModelCheckpoint('best-model.keras', save_best_only=True)\n",
    "early_stopping_cb = keras.callbacks.EarlyStopping(patience=5, restore_best_weights=True)\n",
    "\n",
    "hist = model.fit(train_ds, epochs=20, validation_data=val_ds, callbacks=[checkpoint_cb, early_stopping_cb])\n",
    "model.fit(train_ds, epochs=20, validation_data=val_ds)"
   ]
  },
  {
   "cell_type": "code",
   "execution_count": null,
   "id": "4431120b",
   "metadata": {},
   "outputs": [],
   "source": [
    "!pip install matplotlib\n",
    "\n",
    "import matplotlib.pyplot as plt\n",
    "\n"
   ]
  },
  {
   "cell_type": "code",
   "execution_count": 13,
   "id": "0c7d5c6b",
   "metadata": {},
   "outputs": [],
   "source": [
    "model2 = keras.models.load_model(\"best-model.keras\")"
   ]
  },
  {
   "cell_type": "code",
   "execution_count": 14,
   "id": "6927a923",
   "metadata": {},
   "outputs": [
    {
     "name": "stdout",
     "output_type": "stream",
     "text": [
      "\u001b[1m14/14\u001b[0m \u001b[32m━━━━━━━━━━━━━━━━━━━━\u001b[0m\u001b[37m\u001b[0m \u001b[1m10s\u001b[0m 519ms/step - accuracy: 0.9850 - loss: 0.0357\n"
     ]
    },
    {
     "data": {
      "text/plain": [
       "[0.04134761914610863, 0.9836829900741577]"
      ]
     },
     "execution_count": 14,
     "metadata": {},
     "output_type": "execute_result"
    }
   ],
   "source": [
    "model2.evaluate(val_ds)"
   ]
  },
  {
   "cell_type": "code",
   "execution_count": 23,
   "id": "50986905",
   "metadata": {},
   "outputs": [
    {
     "name": "stderr",
     "output_type": "stream",
     "text": [
      "<>:4: SyntaxWarning: invalid escape sequence '\\i'\n",
      "<>:4: SyntaxWarning: invalid escape sequence '\\i'\n",
      "C:\\Users\\admin\\AppData\\Local\\Temp\\ipykernel_11232\\2235324245.py:4: SyntaxWarning: invalid escape sequence '\\i'\n",
      "  img = Image.open(\"C:\\images\\Siirt_Pistachio\\siirt 230.jpg\")\n"
     ]
    },
    {
     "data": {
      "text/plain": [
       "(224, 224, 3)"
      ]
     },
     "execution_count": 23,
     "metadata": {},
     "output_type": "execute_result"
    }
   ],
   "source": [
    "from PIL import Image\n",
    "import numpy as np\n",
    "\n",
    "img = Image.open(\"C:\\images\\Siirt_Pistachio\\siirt 230.jpg\")\n",
    "img = np.array(img.resize((224, 224)))\n",
    "img.shape"
   ]
  },
  {
   "cell_type": "code",
   "execution_count": 24,
   "id": "58cdd9bd",
   "metadata": {},
   "outputs": [
    {
     "data": {
      "text/plain": [
       "(1, 224, 224, 3)"
      ]
     },
     "execution_count": 24,
     "metadata": {},
     "output_type": "execute_result"
    }
   ],
   "source": [
    "img = img[np.newaxis, :]\n",
    "img.shape"
   ]
  },
  {
   "cell_type": "code",
   "execution_count": 25,
   "id": "99a99b3c",
   "metadata": {},
   "outputs": [
    {
     "name": "stdout",
     "output_type": "stream",
     "text": [
      "\u001b[1m1/1\u001b[0m \u001b[32m━━━━━━━━━━━━━━━━━━━━\u001b[0m\u001b[37m\u001b[0m \u001b[1m1s\u001b[0m 1s/step\n"
     ]
    },
    {
     "data": {
      "text/plain": [
       "array([[0.94820756]], dtype=float32)"
      ]
     },
     "execution_count": 25,
     "metadata": {},
     "output_type": "execute_result"
    }
   ],
   "source": [
    "model2.predict(img)"
   ]
  }
 ],
 "metadata": {
  "kernelspec": {
   "display_name": ".venv",
   "language": "python",
   "name": "python3"
  },
  "language_info": {
   "codemirror_mode": {
    "name": "ipython",
    "version": 3
   },
   "file_extension": ".py",
   "mimetype": "text/x-python",
   "name": "python",
   "nbconvert_exporter": "python",
   "pygments_lexer": "ipython3",
   "version": "3.12.10"
  }
 },
 "nbformat": 4,
 "nbformat_minor": 5
}
